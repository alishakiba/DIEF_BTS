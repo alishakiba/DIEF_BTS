{
 "cells": [
  {
   "cell_type": "markdown",
   "metadata": {},
   "source": [
    "Instruction:\n",
    "\n",
    "1. Go to: https://github.com/cruiseresearchgroup/DIEF_BTS\n",
    "2. Download `Site_B.ttl`\n",
    "3. Download `Brick_v1.2.1.ttl` (alternatively, go to https://brickschema.org/resources)\n",
    "4. Run this file."
   ]
  },
  {
   "cell_type": "code",
   "execution_count": 1,
   "metadata": {},
   "outputs": [],
   "source": [
    "import rdflib\n",
    "from rdflib import Graph\n",
    "from rdflib.namespace import BRICK"
   ]
  },
  {
   "cell_type": "markdown",
   "metadata": {},
   "source": [
    "# Definitions"
   ]
  },
  {
   "cell_type": "code",
   "execution_count": 2,
   "metadata": {},
   "outputs": [],
   "source": [
    "filename_ttl='Site_B.ttl'"
   ]
  },
  {
   "cell_type": "code",
   "execution_count": 3,
   "metadata": {},
   "outputs": [],
   "source": [
    "P_SID = rdflib.term.URIRef('http://senaps.io/schema/1.0/senaps#stream_id')\n",
    "P_A = rdflib.term.URIRef('http://www.w3.org/1999/02/22-rdf-syntax-ns#type')"
   ]
  },
  {
   "cell_type": "code",
   "execution_count": 4,
   "metadata": {},
   "outputs": [],
   "source": [
    "def brint(l):\n",
    "    # Brick pRINT\n",
    "    l = list(l)\n",
    "    for il in l:\n",
    "        il = il.replace('http://www.w3.org/1999/02/22-rdf-syntax-ns#type', '_a_')\n",
    "        il = il.replace('https://brickschema.org/schema/Brick#', 'brick:')\n",
    "        il = il.replace('https://brickschema.org/schema/BrickTag#', 'tag:')\n",
    "        il = il.replace('http://senaps.io/schema/1.0/senaps#', 'senaps:')\n",
    "        il = il.replace('http://www.w3.org/2001/XMLSchema#', 'xsd:')\n",
    "        il = il.replace('dch:org/df125f8d_93e4_4a4f_bc87_1c4e332f32b8/site/c495fbd8_7a71_44b4_ad2a_014ac2df7ce9/building/f9a32b80_e745_4f25_90ef_76ed251a7ea2#', 'p4:')\n",
    "        il = il.replace('dch:org/df125f8d_93e4_4a4f_bc87_1c4e332f32b8/site/c495fbd8_7a71_44b4_ad2a_014ac2df7ce9/building/22061be3_a7fa_4103_ade6_1b1fa8df7042#', 'p9:')\n",
    "        il = il.replace('dch:org/df125f8d_93e4_4a4f_bc87_1c4e332f32b8/site/c495fbd8_7a71_44b4_ad2a_014ac2df7ce9/building/95d1f7f3_33c6_4bd8_a82c_99c550d83bb8#', 'p3:')\n",
    "        il = il.replace('dch:org/df125f8d_93e4_4a4f_bc87_1c4e332f32b8/site/c495fbd8_7a71_44b4_ad2a_014ac2df7ce9#', 'p8:')\n",
    "        print(il, end='          ')\n",
    "    print('')"
   ]
  },
  {
   "cell_type": "markdown",
   "metadata": {},
   "source": [
    "# Load Brick definitions"
   ]
  },
  {
   "cell_type": "code",
   "execution_count": 5,
   "metadata": {},
   "outputs": [],
   "source": [
    "b = Graph().parse('Brick_v1.2.1.ttl')\n",
    "# b = Graph().parse('Brick_v1.1.0.ttl')"
   ]
  },
  {
   "cell_type": "code",
   "execution_count": 6,
   "metadata": {},
   "outputs": [
    {
     "name": "stdout",
     "output_type": "stream",
     "text": [
      "n triplets 29955\n",
      "n unique subjects 10076\n",
      "n unique predicates 51\n",
      "n unique objects 11418\n"
     ]
    }
   ],
   "source": [
    "print('n triplets', sum(1 for _ in b.triples((None, None, None))))\n",
    "\n",
    "print('n unique subjects', sum(1 for _ in b.subjects(unique=True)))\n",
    "print('n unique predicates', sum(1 for _ in b.predicates(unique=True)))\n",
    "print('n unique objects', sum(1 for _ in b.objects(unique=True)))"
   ]
  },
  {
   "cell_type": "code",
   "execution_count": 7,
   "metadata": {},
   "outputs": [],
   "source": [
    "def get_classes_with_tag(tag, verbose=False):\n",
    "    classes = set()\n",
    "    for s, p, o in b.triples((None,\n",
    "                              BRICK.hasAssociatedTag,\n",
    "                              rdflib.term.URIRef('https://brickschema.org/schema/BrickTag#'+tag))):\n",
    "        if verbose: brint((s,))\n",
    "        classes.add(s)\n",
    "    return classes"
   ]
  },
  {
   "cell_type": "code",
   "execution_count": 8,
   "metadata": {},
   "outputs": [],
   "source": [
    "# # v1.1.0\n",
    "# def get_classes_with_tag(tag, verbose=False):\n",
    "#     classes = set()\n",
    "#     for s, p, o in b.triples((None,\n",
    "#                               rdflib.term.URIRef('https://brickschema.org/schema/1.1/Brick#hasAssociatedTag'),\n",
    "#                               rdflib.term.URIRef('https://brickschema.org/schema/1.1/BrickTag#'+tag))):\n",
    "#                             #   rdflib.term.URIRef('https://brickschema.org/schema/BrickTag#'+tag))):\n",
    "#         if verbose: brint((s,))\n",
    "#         classes.add(s)\n",
    "#     return classes"
   ]
  },
  {
   "cell_type": "code",
   "execution_count": 9,
   "metadata": {},
   "outputs": [],
   "source": [
    "tagged_Clcn = get_classes_with_tag('Collection')\n",
    "tagged_Eqpt = get_classes_with_tag('Equipment')\n",
    "tagged_Lctn = get_classes_with_tag('Location')\n",
    "tagged_Msrl = get_classes_with_tag('Measurable')\n",
    "tagged_Poin = get_classes_with_tag('Point')\n",
    "\n",
    "tagged_Poin.add(rdflib.term.URIRef('https://brickschema.org/schema/Brick#Electrical_Energy_Sensor'))\n",
    "tagged_Poin.add(rdflib.term.URIRef('https://brickschema.org/schema/Brick#b1a78aa6_d50d_4c0a_920e_5ff7019ab663_Sensor'))\n",
    "\n",
    "tagged_Alrm = get_classes_with_tag('Alarm')\n",
    "tagged_Cmnd = get_classes_with_tag('Command')\n",
    "tagged_Prmr = get_classes_with_tag('Parameter')\n",
    "tagged_Snsr = get_classes_with_tag('Sensor')\n",
    "tagged_Stpt = get_classes_with_tag('Setpoint')\n",
    "tagged_Stts = get_classes_with_tag('Status')\n",
    "\n",
    "tagged_Snsr.add(rdflib.term.URIRef('https://brickschema.org/schema/Brick#Electrical_Energy_Sensor'))\n",
    "tagged_Snsr.add(rdflib.term.URIRef('https://brickschema.org/schema/Brick#b1a78aa6_d50d_4c0a_920e_5ff7019ab663_Sensor'))"
   ]
  },
  {
   "cell_type": "markdown",
   "metadata": {},
   "source": [
    "# Load data"
   ]
  },
  {
   "cell_type": "code",
   "execution_count": 10,
   "metadata": {},
   "outputs": [],
   "source": [
    "g = Graph().parse(filename_ttl)"
   ]
  },
  {
   "cell_type": "code",
   "execution_count": 11,
   "metadata": {},
   "outputs": [
    {
     "name": "stdout",
     "output_type": "stream",
     "text": [
      "n triplets 4316\n",
      "n unique subjects 1573\n",
      "n unique predicates 15\n",
      "n unique objects 1691\n"
     ]
    }
   ],
   "source": [
    "print('n triplets', sum(1 for _ in g.triples((None, None, None))))\n",
    "\n",
    "print('n unique subjects', sum(1 for _ in g.subjects(unique=True)))\n",
    "print('n unique predicates', sum(1 for _ in g.predicates(unique=True)))\n",
    "print('n unique objects', sum(1 for _ in g.objects(unique=True)))"
   ]
  },
  {
   "cell_type": "markdown",
   "metadata": {},
   "source": [
    "# Get Statistics"
   ]
  },
  {
   "cell_type": "code",
   "execution_count": 12,
   "metadata": {},
   "outputs": [],
   "source": [
    "def gswc(g, blass):\n",
    "    # get all sentences with a class\n",
    "    n = 0\n",
    "    l = []\n",
    "    for s,v,o in g.triples((None, None, None)):\n",
    "        if o in blass:\n",
    "            l.append([s,v,o])\n",
    "    return l\n",
    "\n",
    "def get_uniques(l, verbose = False):\n",
    "    uc = set() # unique class\n",
    "    for i in l:\n",
    "        uc.add(i[2])\n",
    "    if verbose:\n",
    "        for i in uc:\n",
    "            brint((i,))\n",
    "    return uc"
   ]
  },
  {
   "cell_type": "code",
   "execution_count": 13,
   "metadata": {},
   "outputs": [
    {
     "name": "stdout",
     "output_type": "stream",
     "text": [
      "Number of Collection , 2 (2)\n",
      "Number of Equipment  , 159 (25)\n",
      "Number of Location   , 68 (17)\n",
      "Number of Measurable , 0 (0)\n",
      "Number of Point      , 851 (57)\n",
      "Number of Alarm      , 5 (2)\n",
      "Number of Command    , 97 (5)\n",
      "Number of Parameter  , 36 (2)\n",
      "Number of Sensor     , 266 (25)\n",
      "Number of Setpoint   , 232 (16)\n",
      "Number of Status     , 110 (6)\n"
     ]
    }
   ],
   "source": [
    "print('Number of Collection ,', len(gswc(g, tagged_Clcn)), '('+str(len(get_uniques(gswc(g, tagged_Clcn))))+')')\n",
    "print('Number of Equipment  ,', len(gswc(g, tagged_Eqpt)), '('+str(len(get_uniques(gswc(g, tagged_Eqpt))))+')')\n",
    "print('Number of Location   ,', len(gswc(g, tagged_Lctn)), '('+str(len(get_uniques(gswc(g, tagged_Lctn))))+')')\n",
    "print('Number of Measurable ,', len(gswc(g, tagged_Msrl)), '('+str(len(get_uniques(gswc(g, tagged_Msrl))))+')')\n",
    "print('Number of Point      ,', len(gswc(g, tagged_Poin)), '('+str(len(get_uniques(gswc(g, tagged_Poin))))+')')\n",
    "\n",
    "print('Number of Alarm      ,', len(gswc(g, tagged_Alrm)), '('+str(len(get_uniques(gswc(g, tagged_Alrm))))+')')\n",
    "print('Number of Command    ,', len(gswc(g, tagged_Cmnd)), '('+str(len(get_uniques(gswc(g, tagged_Cmnd))))+')')\n",
    "print('Number of Parameter  ,', len(gswc(g, tagged_Prmr)), '('+str(len(get_uniques(gswc(g, tagged_Prmr))))+')')\n",
    "print('Number of Sensor     ,', len(gswc(g, tagged_Snsr)), '('+str(len(get_uniques(gswc(g, tagged_Snsr))))+')')\n",
    "print('Number of Setpoint   ,', len(gswc(g, tagged_Stpt)), '('+str(len(get_uniques(gswc(g, tagged_Stpt))))+')')\n",
    "print('Number of Status     ,', len(gswc(g, tagged_Stts)), '('+str(len(get_uniques(gswc(g, tagged_Stts))))+')')\n"
   ]
  },
  {
   "cell_type": "code",
   "execution_count": 14,
   "metadata": {},
   "outputs": [
    {
     "name": "stdout",
     "output_type": "stream",
     "text": [
      "p3:47f9140d_38d8_4391_9aa1_08973d4b6370.850f4214_f94d_4b62_9e24_02705deba9b3          _a_          brick:Alarm          \n",
      "p3:47f9140d_38d8_4391_9aa1_08973d4b6370.b10f39ce_fba2_475f_a0f3_47fcdebe69c1          _a_          brick:Alarm          \n",
      "p3:d64b9bc0_e6b3_4556_acda_8040d33b7148.96a43ad1_0a11_4ff6_8575_7debf96eb7fa          _a_          brick:Emergency_Alarm          \n",
      "p3:d64b9bc0_e6b3_4556_acda_8040d33b7148.c7fec04c_e8ac_4a10_b940_ebd908f9d284          _a_          brick:Emergency_Alarm          \n",
      "p3:3abdac1c_4717_445e_8248_0143c701015a.5f9db389_7ade_4e13_a1d3_58bec0f0e647          _a_          brick:Emergency_Alarm          \n"
     ]
    }
   ],
   "source": [
    "# Example to inspect all Alarm\n",
    "all_alarms = gswc(g, tagged_Alrm)\n",
    "for i in all_alarms:\n",
    "    brint(i)"
   ]
  },
  {
   "cell_type": "code",
   "execution_count": 15,
   "metadata": {},
   "outputs": [
    {
     "name": "stdout",
     "output_type": "stream",
     "text": [
      "2\n",
      "brick:Emergency_Alarm          \n",
      "brick:Alarm          \n"
     ]
    }
   ],
   "source": [
    "# Example to inspect all unique Alarm class\n",
    "print(len(get_uniques(all_alarms)))\n",
    "get_uniques(all_alarms, verbose=True);"
   ]
  }
 ],
 "metadata": {
  "kernelspec": {
   "display_name": "dief3",
   "language": "python",
   "name": "python3"
  },
  "language_info": {
   "codemirror_mode": {
    "name": "ipython",
    "version": 3
   },
   "file_extension": ".py",
   "mimetype": "text/x-python",
   "name": "python",
   "nbconvert_exporter": "python",
   "pygments_lexer": "ipython3",
   "version": "3.8.16"
  }
 },
 "nbformat": 4,
 "nbformat_minor": 2
}
