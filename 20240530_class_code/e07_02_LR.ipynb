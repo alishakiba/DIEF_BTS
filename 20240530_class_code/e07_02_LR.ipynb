{
 "cells": [
  {
   "cell_type": "markdown",
   "metadata": {},
   "source": [
    "# top"
   ]
  },
  {
   "cell_type": "code",
   "execution_count": 1,
   "metadata": {},
   "outputs": [
    {
     "name": "stderr",
     "output_type": "stream",
     "text": [
      "/Users/arianprabowo/anaconda3/envs/dief3/lib/python3.8/site-packages/tqdm/auto.py:21: TqdmWarning: IProgress not found. Please update jupyter and ipywidgets. See https://ipywidgets.readthedocs.io/en/stable/user_install.html\n",
      "  from .autonotebook import tqdm as notebook_tqdm\n"
     ]
    }
   ],
   "source": [
    "import os, sys\n",
    "import pickle\n",
    "import numpy as np\n",
    "import pandas as pd\n",
    "import scipy.stats\n",
    "import matplotlib.pyplot as plt\n",
    "\n",
    "from tqdm.auto import tqdm\n",
    "import sklearn.metrics\n",
    "import sklearn.linear_model\n",
    "\n",
    "sys.path.append('..')\n",
    "import diefComp1Utils as util\n"
   ]
  },
  {
   "cell_type": "code",
   "execution_count": 2,
   "metadata": {},
   "outputs": [],
   "source": [
    "folderPath = '/Users/arianprabowo/Library/CloudStorage/OneDrive-UNSW/root/DIEF/raw data/e04_splits/'\n",
    "pathTrainX = folderPath+'train_X.zip'\n",
    "pathTrainY = folderPath+'train_Y.csv'\n",
    "pathTestX = folderPath+'test_X.zip'\n",
    "pathTestY = folderPath+'test_Y.csv'"
   ]
  },
  {
   "cell_type": "markdown",
   "metadata": {},
   "source": [
    "# train"
   ]
  },
  {
   "cell_type": "code",
   "execution_count": 3,
   "metadata": {},
   "outputs": [],
   "source": [
    "dfTrainY = pd.read_csv(pathTrainY, index_col=0)\n",
    "aTrny = dfTrainY.iloc[:,3:].values ==1"
   ]
  },
  {
   "cell_type": "code",
   "execution_count": 4,
   "metadata": {},
   "outputs": [
    {
     "name": "stderr",
     "output_type": "stream",
     "text": [
      "  0%|          | 0/31851 [00:00<?, ?it/s]/Users/arianprabowo/My Drive/employment/2023 09 UNSW postdoc/DIEF/e07_LR/../diefComp1Utils.py:164: RuntimeWarning: Precision loss occurred in moment calculation due to catastrophic cancellation. This occurs when the data are nearly identical. Results may be unreliable.\n",
      "  adata[ii,2] = scipy.stats.skew(idata['v'])\n",
      "/Users/arianprabowo/My Drive/employment/2023 09 UNSW postdoc/DIEF/e07_LR/../diefComp1Utils.py:165: RuntimeWarning: Precision loss occurred in moment calculation due to catastrophic cancellation. This occurs when the data are nearly identical. Results may be unreliable.\n",
      "  adata[ii,3] = scipy.stats.kurtosis(idata['v'])\n",
      "100%|██████████| 31851/31851 [00:31<00:00, 1015.81it/s]\n"
     ]
    },
    {
     "data": {
      "text/plain": [
       "(31851, 11)"
      ]
     },
     "execution_count": 4,
     "metadata": {},
     "output_type": "execute_result"
    }
   ],
   "source": [
    "aTrnx = util.load_GlobalFeatureSet1(pathTrainX)\n",
    "aTrnx.shape"
   ]
  },
  {
   "cell_type": "code",
   "execution_count": 5,
   "metadata": {},
   "outputs": [
    {
     "name": "stderr",
     "output_type": "stream",
     "text": [
      "100%|██████████| 240/240 [00:18<00:00, 13.16it/s]\n"
     ]
    }
   ],
   "source": [
    "l_lr = [] # list of logistic regressors\n",
    "for ii in tqdm(range(aTrny.shape[1])):\n",
    "    ilr = sklearn.linear_model.LogisticRegression()\n",
    "    if (aTrny[:,ii] == 1).sum() == 0:\n",
    "        l_lr.append(0)\n",
    "        continue\n",
    "    ilr.fit(aTrnx,aTrny[:,ii])\n",
    "    l_lr.append(ilr)"
   ]
  },
  {
   "cell_type": "code",
   "execution_count": 7,
   "metadata": {},
   "outputs": [
    {
     "name": "stderr",
     "output_type": "stream",
     "text": [
      "  0%|          | 0/11 [00:00<?, ?it/s]"
     ]
    },
    {
     "name": "stderr",
     "output_type": "stream",
     "text": [
      "100%|██████████| 11/11 [00:00<00:00, 203.35it/s]\n",
      "/Users/arianprabowo/My Drive/employment/2023 09 UNSW postdoc/DIEF/e07_LR/../diefComp1Utils.py:307: RuntimeWarning: invalid value encountered in divide\n",
      "  precision = tp / (tp + fp)\n",
      "/Users/arianprabowo/My Drive/employment/2023 09 UNSW postdoc/DIEF/e07_LR/../diefComp1Utils.py:308: RuntimeWarning: invalid value encountered in divide\n",
      "  recall = tp / (tp + fn)\n",
      "mAP:   0%|          | 0/11 [00:00<?, ?it/s]/Users/arianprabowo/My Drive/employment/2023 09 UNSW postdoc/DIEF/e07_LR/../diefComp1Utils.py:263: RuntimeWarning: invalid value encountered in divide\n",
      "  a_precision[ii,:] = true__positive / (true__positive + false_positive)\n",
      "/Users/arianprabowo/My Drive/employment/2023 09 UNSW postdoc/DIEF/e07_LR/../diefComp1Utils.py:264: RuntimeWarning: invalid value encountered in divide\n",
      "  a_recall[ii,:] = true__positive / (true__positive + false_negative)\n",
      "mAP: 100%|██████████| 11/11 [00:02<00:00,  4.73it/s]"
     ]
    },
    {
     "name": "stdout",
     "output_type": "stream",
     "text": [
      "  Accuracy  | Precision  |   Recall   |     F1     |    mAP     \n",
      "   0.9879288          0.0          0.0          0.0          0.0\n"
     ]
    },
    {
     "name": "stderr",
     "output_type": "stream",
     "text": [
      "\n"
     ]
    },
    {
     "data": {
      "text/plain": [
       "accuracy     0.857736\n",
       "precision    0.000000\n",
       "recall       0.000000\n",
       "f1           0.000000\n",
       "AP           0.000000\n",
       "dtype: float64"
      ]
     },
     "execution_count": 7,
     "metadata": {},
     "output_type": "execute_result"
    }
   ],
   "source": [
    "aTrnh = np.zeros((aTrnx.shape[0], aTrny.shape[1]))\n",
    "for ii in tqdm(range(aTrnx.shape[1])):\n",
    "    if l_lr[ii] != 0:\n",
    "        aTrnh[:,ii] = l_lr[ii].predict(aTrnx)\n",
    "d = util.allMetrics(dfTrainY.values[:,3:], aTrnh)\n",
    "dfM, dfWM = util.weighted_metrics(d, dfTrainY)\n",
    "dfWM"
   ]
  },
  {
   "cell_type": "markdown",
   "metadata": {},
   "source": [
    "# test"
   ]
  },
  {
   "cell_type": "markdown",
   "metadata": {},
   "source": [
    "## load"
   ]
  },
  {
   "cell_type": "code",
   "execution_count": 8,
   "metadata": {},
   "outputs": [],
   "source": [
    "dfTestY = pd.read_csv(pathTestY, index_col=0)\n",
    "aTsty = dfTestY.iloc[:,3:].values ==1"
   ]
  },
  {
   "cell_type": "code",
   "execution_count": 9,
   "metadata": {},
   "outputs": [
    {
     "name": "stderr",
     "output_type": "stream",
     "text": [
      "  0%|          | 0/329439 [00:00<?, ?it/s]/Users/arianprabowo/My Drive/employment/2023 09 UNSW postdoc/DIEF/e07_LR/../diefComp1Utils.py:164: RuntimeWarning: Precision loss occurred in moment calculation due to catastrophic cancellation. This occurs when the data are nearly identical. Results may be unreliable.\n",
      "  adata[ii,2] = scipy.stats.skew(idata['v'])\n",
      "/Users/arianprabowo/My Drive/employment/2023 09 UNSW postdoc/DIEF/e07_LR/../diefComp1Utils.py:165: RuntimeWarning: Precision loss occurred in moment calculation due to catastrophic cancellation. This occurs when the data are nearly identical. Results may be unreliable.\n",
      "  adata[ii,3] = scipy.stats.kurtosis(idata['v'])\n",
      "100%|██████████| 329439/329439 [04:59<00:00, 1099.56it/s]\n"
     ]
    }
   ],
   "source": [
    "aTstx = util.load_GlobalFeatureSet1(pathTestX)"
   ]
  },
  {
   "cell_type": "markdown",
   "metadata": {},
   "source": [
    "## predict"
   ]
  },
  {
   "cell_type": "code",
   "execution_count": 10,
   "metadata": {},
   "outputs": [
    {
     "name": "stderr",
     "output_type": "stream",
     "text": [
      "100%|██████████| 11/11 [00:00<00:00, 57.81it/s]\n"
     ]
    }
   ],
   "source": [
    "aTsth = np.zeros((aTstx.shape[0], aTsty.shape[1]))\n",
    "for ii in tqdm(range(aTstx.shape[1])):\n",
    "    if l_lr[ii] != 0:\n",
    "        aTsth[:,ii] = l_lr[ii].predict(aTstx)"
   ]
  },
  {
   "cell_type": "code",
   "execution_count": 11,
   "metadata": {},
   "outputs": [
    {
     "name": "stderr",
     "output_type": "stream",
     "text": [
      "/Users/arianprabowo/My Drive/employment/2023 09 UNSW postdoc/DIEF/e07_LR/../diefComp1Utils.py:307: RuntimeWarning: invalid value encountered in divide\n",
      "  precision = tp / (tp + fp)\n",
      "/Users/arianprabowo/My Drive/employment/2023 09 UNSW postdoc/DIEF/e07_LR/../diefComp1Utils.py:308: RuntimeWarning: invalid value encountered in divide\n",
      "  recall = tp / (tp + fn)\n",
      "/Users/arianprabowo/My Drive/employment/2023 09 UNSW postdoc/DIEF/e07_LR/../diefComp1Utils.py:309: RuntimeWarning: invalid value encountered in divide\n",
      "  f1 = 2 * (precision * recall) / (precision + recall)\n",
      "mAP:   0%|          | 0/11 [00:00<?, ?it/s]/Users/arianprabowo/My Drive/employment/2023 09 UNSW postdoc/DIEF/e07_LR/../diefComp1Utils.py:263: RuntimeWarning: invalid value encountered in divide\n",
      "  a_precision[ii,:] = true__positive / (true__positive + false_positive)\n",
      "/Users/arianprabowo/My Drive/employment/2023 09 UNSW postdoc/DIEF/e07_LR/../diefComp1Utils.py:264: RuntimeWarning: invalid value encountered in divide\n",
      "  a_recall[ii,:] = true__positive / (true__positive + false_negative)\n",
      "mAP: 100%|██████████| 11/11 [00:11<00:00,  1.03s/it]\n"
     ]
    },
    {
     "name": "stdout",
     "output_type": "stream",
     "text": [
      "  Accuracy  | Precision  |   Recall   |     F1     |    mAP     \n",
      "   0.9882037          0.0          0.0          0.0          0.0\n"
     ]
    },
    {
     "name": "stderr",
     "output_type": "stream",
     "text": [
      "mAP: 100%|██████████| 11/11 [00:11<00:00,  1.02s/it]\n"
     ]
    },
    {
     "name": "stdout",
     "output_type": "stream",
     "text": [
      "  Accuracy  | Precision  |   Recall   |     F1     |    mAP     \n",
      "    0.988086          0.0          0.0          0.0          0.0\n"
     ]
    },
    {
     "name": "stderr",
     "output_type": "stream",
     "text": [
      "mAP: 100%|██████████| 11/11 [00:22<00:00,  2.06s/it]"
     ]
    },
    {
     "name": "stdout",
     "output_type": "stream",
     "text": [
      "  Accuracy  | Precision  |   Recall   |     F1     |    mAP     \n",
      "   0.9881453          0.0          0.0          0.0          0.0\n"
     ]
    },
    {
     "name": "stderr",
     "output_type": "stream",
     "text": [
      "\n"
     ]
    }
   ],
   "source": [
    "dlb = util.parition_wrapper_for_metrics(dfTestY, aTsth, 'leaderboard')\n",
    "dsc = util.parition_wrapper_for_metrics(dfTestY, aTsth, 'secret')\n",
    "dcm = util.parition_wrapper_for_metrics(dfTestY, aTsth, 'combined')"
   ]
  },
  {
   "cell_type": "code",
   "execution_count": 12,
   "metadata": {},
   "outputs": [
    {
     "data": {
      "text/plain": [
       "accuracy     0.84836\n",
       "precision    0.00000\n",
       "recall       0.00000\n",
       "f1           0.00000\n",
       "AP           0.00000\n",
       "dtype: float64"
      ]
     },
     "execution_count": 12,
     "metadata": {},
     "output_type": "execute_result"
    }
   ],
   "source": [
    "dfM, dfWM = util.weighted_metrics(dcm, dfTestY)\n",
    "dfWM"
   ]
  },
  {
   "cell_type": "markdown",
   "metadata": {},
   "source": [
    "# bot"
   ]
  },
  {
   "cell_type": "code",
   "execution_count": 13,
   "metadata": {},
   "outputs": [
    {
     "name": "stdout",
     "output_type": "stream",
     "text": [
      "tp 0.0\n",
      "tn 322017.4708333333\n",
      "fp 0.020833333333333332\n",
      "fn 3877.241666666667\n",
      "accuracy 0.988145261407229\n",
      "precision 0.0\n",
      "recall 0.0\n",
      "f1 0.0\n",
      "AP 0.0\n",
      "_AP_precision 0.0\n",
      "_AP_recall 0.07692307692307693\n"
     ]
    }
   ],
   "source": [
    "for ik,iv in dcm.items():\n",
    "    print(ik, iv.mean())"
   ]
  },
  {
   "cell_type": "code",
   "execution_count": null,
   "metadata": {},
   "outputs": [],
   "source": []
  }
 ],
 "metadata": {
  "kernelspec": {
   "display_name": "AENeff",
   "language": "python",
   "name": "python3"
  },
  "language_info": {
   "codemirror_mode": {
    "name": "ipython",
    "version": 3
   },
   "file_extension": ".py",
   "mimetype": "text/x-python",
   "name": "python",
   "nbconvert_exporter": "python",
   "pygments_lexer": "ipython3",
   "version": "3.8.16"
  }
 },
 "nbformat": 4,
 "nbformat_minor": 2
}
