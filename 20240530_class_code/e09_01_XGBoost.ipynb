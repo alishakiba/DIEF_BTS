{
 "cells": [
  {
   "cell_type": "markdown",
   "metadata": {},
   "source": [
    "# top"
   ]
  },
  {
   "cell_type": "code",
   "execution_count": 3,
   "metadata": {},
   "outputs": [],
   "source": [
    "import sys\n",
    "import pandas as pd\n",
    "\n",
    "from tqdm.auto import tqdm\n",
    "import xgboost as xgb\n",
    "\n",
    "sys.path.append('..')\n",
    "import diefComp1Utils as util\n"
   ]
  },
  {
   "cell_type": "code",
   "execution_count": 7,
   "metadata": {},
   "outputs": [],
   "source": [
    "folderPath = '/Users/arianprabowo/Library/CloudStorage/OneDrive-UNSW/root/DIEF/raw data/e04_splits/'\n",
    "pathTrainX = folderPath+'train_X.zip'\n",
    "pathTrainY = folderPath+'train_Y.csv'\n",
    "pathTestX = folderPath+'test_X.zip'\n",
    "pathTestY = folderPath+'test_Y.csv'"
   ]
  },
  {
   "cell_type": "markdown",
   "metadata": {},
   "source": [
    "# train"
   ]
  },
  {
   "cell_type": "code",
   "execution_count": 8,
   "metadata": {},
   "outputs": [],
   "source": [
    "dfTrainY = pd.read_csv(pathTrainY, index_col=0)\n",
    "aTrny = dfTrainY.iloc[:,3:].values ==1"
   ]
  },
  {
   "cell_type": "code",
   "execution_count": 10,
   "metadata": {},
   "outputs": [
    {
     "name": "stderr",
     "output_type": "stream",
     "text": [
      "100%|██████████| 31851/31851 [00:32<00:00, 977.46it/s] \n"
     ]
    }
   ],
   "source": [
    "aTrnx = util.load_GlobalFeatureSet1(pathTrainX)"
   ]
  },
  {
   "cell_type": "markdown",
   "metadata": {},
   "source": [
    "## fit"
   ]
  },
  {
   "cell_type": "code",
   "execution_count": 11,
   "metadata": {},
   "outputs": [
    {
     "data": {
      "text/html": [
       "<style>#sk-container-id-1 {color: black;}#sk-container-id-1 pre{padding: 0;}#sk-container-id-1 div.sk-toggleable {background-color: white;}#sk-container-id-1 label.sk-toggleable__label {cursor: pointer;display: block;width: 100%;margin-bottom: 0;padding: 0.3em;box-sizing: border-box;text-align: center;}#sk-container-id-1 label.sk-toggleable__label-arrow:before {content: \"▸\";float: left;margin-right: 0.25em;color: #696969;}#sk-container-id-1 label.sk-toggleable__label-arrow:hover:before {color: black;}#sk-container-id-1 div.sk-estimator:hover label.sk-toggleable__label-arrow:before {color: black;}#sk-container-id-1 div.sk-toggleable__content {max-height: 0;max-width: 0;overflow: hidden;text-align: left;background-color: #f0f8ff;}#sk-container-id-1 div.sk-toggleable__content pre {margin: 0.2em;color: black;border-radius: 0.25em;background-color: #f0f8ff;}#sk-container-id-1 input.sk-toggleable__control:checked~div.sk-toggleable__content {max-height: 200px;max-width: 100%;overflow: auto;}#sk-container-id-1 input.sk-toggleable__control:checked~label.sk-toggleable__label-arrow:before {content: \"▾\";}#sk-container-id-1 div.sk-estimator input.sk-toggleable__control:checked~label.sk-toggleable__label {background-color: #d4ebff;}#sk-container-id-1 div.sk-label input.sk-toggleable__control:checked~label.sk-toggleable__label {background-color: #d4ebff;}#sk-container-id-1 input.sk-hidden--visually {border: 0;clip: rect(1px 1px 1px 1px);clip: rect(1px, 1px, 1px, 1px);height: 1px;margin: -1px;overflow: hidden;padding: 0;position: absolute;width: 1px;}#sk-container-id-1 div.sk-estimator {font-family: monospace;background-color: #f0f8ff;border: 1px dotted black;border-radius: 0.25em;box-sizing: border-box;margin-bottom: 0.5em;}#sk-container-id-1 div.sk-estimator:hover {background-color: #d4ebff;}#sk-container-id-1 div.sk-parallel-item::after {content: \"\";width: 100%;border-bottom: 1px solid gray;flex-grow: 1;}#sk-container-id-1 div.sk-label:hover label.sk-toggleable__label {background-color: #d4ebff;}#sk-container-id-1 div.sk-serial::before {content: \"\";position: absolute;border-left: 1px solid gray;box-sizing: border-box;top: 0;bottom: 0;left: 50%;z-index: 0;}#sk-container-id-1 div.sk-serial {display: flex;flex-direction: column;align-items: center;background-color: white;padding-right: 0.2em;padding-left: 0.2em;position: relative;}#sk-container-id-1 div.sk-item {position: relative;z-index: 1;}#sk-container-id-1 div.sk-parallel {display: flex;align-items: stretch;justify-content: center;background-color: white;position: relative;}#sk-container-id-1 div.sk-item::before, #sk-container-id-1 div.sk-parallel-item::before {content: \"\";position: absolute;border-left: 1px solid gray;box-sizing: border-box;top: 0;bottom: 0;left: 50%;z-index: -1;}#sk-container-id-1 div.sk-parallel-item {display: flex;flex-direction: column;z-index: 1;position: relative;background-color: white;}#sk-container-id-1 div.sk-parallel-item:first-child::after {align-self: flex-end;width: 50%;}#sk-container-id-1 div.sk-parallel-item:last-child::after {align-self: flex-start;width: 50%;}#sk-container-id-1 div.sk-parallel-item:only-child::after {width: 0;}#sk-container-id-1 div.sk-dashed-wrapped {border: 1px dashed gray;margin: 0 0.4em 0.5em 0.4em;box-sizing: border-box;padding-bottom: 0.4em;background-color: white;}#sk-container-id-1 div.sk-label label {font-family: monospace;font-weight: bold;display: inline-block;line-height: 1.2em;}#sk-container-id-1 div.sk-label-container {text-align: center;}#sk-container-id-1 div.sk-container {/* jupyter's `normalize.less` sets `[hidden] { display: none; }` but bootstrap.min.css set `[hidden] { display: none !important; }` so we also need the `!important` here to be able to override the default hidden behavior on the sphinx rendered scikit-learn.org. See: https://github.com/scikit-learn/scikit-learn/issues/21755 */display: inline-block !important;position: relative;}#sk-container-id-1 div.sk-text-repr-fallback {display: none;}</style><div id=\"sk-container-id-1\" class=\"sk-top-container\"><div class=\"sk-text-repr-fallback\"><pre>XGBClassifier(base_score=None, booster=None, callbacks=None,\n",
       "              colsample_bylevel=None, colsample_bynode=None,\n",
       "              colsample_bytree=None, device=None, early_stopping_rounds=None,\n",
       "              enable_categorical=False, eval_metric=None, feature_types=None,\n",
       "              gamma=None, grow_policy=None, importance_type=None,\n",
       "              interaction_constraints=None, learning_rate=None, max_bin=None,\n",
       "              max_cat_threshold=None, max_cat_to_onehot=None,\n",
       "              max_delta_step=None, max_depth=None, max_leaves=None,\n",
       "              min_child_weight=None, missing=nan, monotone_constraints=None,\n",
       "              multi_strategy=None, n_estimators=None, n_jobs=None,\n",
       "              num_parallel_tree=None, random_state=None, ...)</pre><b>In a Jupyter environment, please rerun this cell to show the HTML representation or trust the notebook. <br />On GitHub, the HTML representation is unable to render, please try loading this page with nbviewer.org.</b></div><div class=\"sk-container\" hidden><div class=\"sk-item\"><div class=\"sk-estimator sk-toggleable\"><input class=\"sk-toggleable__control sk-hidden--visually\" id=\"sk-estimator-id-1\" type=\"checkbox\" checked><label for=\"sk-estimator-id-1\" class=\"sk-toggleable__label sk-toggleable__label-arrow\">XGBClassifier</label><div class=\"sk-toggleable__content\"><pre>XGBClassifier(base_score=None, booster=None, callbacks=None,\n",
       "              colsample_bylevel=None, colsample_bynode=None,\n",
       "              colsample_bytree=None, device=None, early_stopping_rounds=None,\n",
       "              enable_categorical=False, eval_metric=None, feature_types=None,\n",
       "              gamma=None, grow_policy=None, importance_type=None,\n",
       "              interaction_constraints=None, learning_rate=None, max_bin=None,\n",
       "              max_cat_threshold=None, max_cat_to_onehot=None,\n",
       "              max_delta_step=None, max_depth=None, max_leaves=None,\n",
       "              min_child_weight=None, missing=nan, monotone_constraints=None,\n",
       "              multi_strategy=None, n_estimators=None, n_jobs=None,\n",
       "              num_parallel_tree=None, random_state=None, ...)</pre></div></div></div></div></div>"
      ],
      "text/plain": [
       "XGBClassifier(base_score=None, booster=None, callbacks=None,\n",
       "              colsample_bylevel=None, colsample_bynode=None,\n",
       "              colsample_bytree=None, device=None, early_stopping_rounds=None,\n",
       "              enable_categorical=False, eval_metric=None, feature_types=None,\n",
       "              gamma=None, grow_policy=None, importance_type=None,\n",
       "              interaction_constraints=None, learning_rate=None, max_bin=None,\n",
       "              max_cat_threshold=None, max_cat_to_onehot=None,\n",
       "              max_delta_step=None, max_depth=None, max_leaves=None,\n",
       "              min_child_weight=None, missing=nan, monotone_constraints=None,\n",
       "              multi_strategy=None, n_estimators=None, n_jobs=None,\n",
       "              num_parallel_tree=None, random_state=None, ...)"
      ]
     },
     "execution_count": 11,
     "metadata": {},
     "output_type": "execute_result"
    }
   ],
   "source": [
    "# less than 3 mins\n",
    "m = xgb.XGBClassifier()\n",
    "m.fit(aTrnx, aTrny)"
   ]
  },
  {
   "cell_type": "code",
   "execution_count": 13,
   "metadata": {},
   "outputs": [
    {
     "name": "stderr",
     "output_type": "stream",
     "text": [
      "/Users/arianprabowo/My Drive/employment/2023 09 UNSW postdoc/DIEF/e09_XGBoost/../diefComp1Utils.py:306: RuntimeWarning: invalid value encountered in divide\n",
      "  accuracy = (tp + tn) / (tp + tn + fp + fn)\n",
      "/Users/arianprabowo/My Drive/employment/2023 09 UNSW postdoc/DIEF/e09_XGBoost/../diefComp1Utils.py:307: RuntimeWarning: invalid value encountered in divide\n",
      "  precision = tp / (tp + fp)\n",
      "/Users/arianprabowo/My Drive/employment/2023 09 UNSW postdoc/DIEF/e09_XGBoost/../diefComp1Utils.py:308: RuntimeWarning: invalid value encountered in divide\n",
      "  recall = tp / (tp + fn)\n",
      "mAP:   0%|          | 0/11 [00:00<?, ?it/s]/Users/arianprabowo/My Drive/employment/2023 09 UNSW postdoc/DIEF/e09_XGBoost/../diefComp1Utils.py:263: RuntimeWarning: invalid value encountered in divide\n",
      "  a_precision[ii,:] = true__positive / (true__positive + false_positive)\n",
      "/Users/arianprabowo/My Drive/employment/2023 09 UNSW postdoc/DIEF/e09_XGBoost/../diefComp1Utils.py:264: RuntimeWarning: invalid value encountered in divide\n",
      "  a_recall[ii,:] = true__positive / (true__positive + false_negative)\n",
      "mAP: 100%|██████████| 11/11 [00:00<00:00, 17.05it/s]"
     ]
    },
    {
     "name": "stdout",
     "output_type": "stream",
     "text": [
      "  Accuracy  | Precision  |   Recall   |     F1     |    mAP     \n",
      "   0.1525036       0.7125    0.1525036    0.2321273    0.4325018\n",
      "accuracy     0.194110\n",
      "precision    0.999542\n",
      "recall       0.194110\n",
      "f1           0.253926\n",
      "AP           0.596826\n",
      "dtype: float64\n"
     ]
    },
    {
     "name": "stderr",
     "output_type": "stream",
     "text": [
      "\n"
     ]
    }
   ],
   "source": [
    "aTrnh = m.predict(aTrnx).astype(float)\n",
    "d = util.allMetrics(aTrny, aTrnh)\n",
    "dfM, dfWM = util.weighted_metrics(d, dfTrainY)\n",
    "print(dfWM)"
   ]
  },
  {
   "cell_type": "markdown",
   "metadata": {},
   "source": [
    "# test"
   ]
  },
  {
   "cell_type": "markdown",
   "metadata": {},
   "source": [
    "## load"
   ]
  },
  {
   "cell_type": "code",
   "execution_count": 14,
   "metadata": {},
   "outputs": [],
   "source": [
    "dfTestY = pd.read_csv(pathTestY, index_col=0)\n",
    "aTsty = dfTestY.iloc[:,3:].values ==1"
   ]
  },
  {
   "cell_type": "code",
   "execution_count": 15,
   "metadata": {},
   "outputs": [
    {
     "name": "stderr",
     "output_type": "stream",
     "text": [
      "  0%|          | 0/329439 [00:00<?, ?it/s]/Users/arianprabowo/My Drive/employment/2023 09 UNSW postdoc/DIEF/e09_XGBoost/../diefComp1Utils.py:164: RuntimeWarning: Precision loss occurred in moment calculation due to catastrophic cancellation. This occurs when the data are nearly identical. Results may be unreliable.\n",
      "  adata[ii,2] = scipy.stats.skew(idata['v'])\n",
      "/Users/arianprabowo/My Drive/employment/2023 09 UNSW postdoc/DIEF/e09_XGBoost/../diefComp1Utils.py:165: RuntimeWarning: Precision loss occurred in moment calculation due to catastrophic cancellation. This occurs when the data are nearly identical. Results may be unreliable.\n",
      "  adata[ii,3] = scipy.stats.kurtosis(idata['v'])\n",
      "100%|██████████| 329439/329439 [04:59<00:00, 1101.36it/s]\n"
     ]
    }
   ],
   "source": [
    "aTstx = util.load_GlobalFeatureSet1(pathTestX)"
   ]
  },
  {
   "cell_type": "markdown",
   "metadata": {},
   "source": [
    "## predict"
   ]
  },
  {
   "cell_type": "code",
   "execution_count": 16,
   "metadata": {},
   "outputs": [],
   "source": [
    "# 7 secs\n",
    "aTsth = m.predict(aTstx).astype(float)"
   ]
  },
  {
   "cell_type": "code",
   "execution_count": 17,
   "metadata": {},
   "outputs": [
    {
     "name": "stderr",
     "output_type": "stream",
     "text": [
      "/Users/arianprabowo/My Drive/employment/2023 09 UNSW postdoc/DIEF/e09_XGBoost/../diefComp1Utils.py:307: RuntimeWarning: invalid value encountered in divide\n",
      "  precision = tp / (tp + fp)\n",
      "/Users/arianprabowo/My Drive/employment/2023 09 UNSW postdoc/DIEF/e09_XGBoost/../diefComp1Utils.py:308: RuntimeWarning: invalid value encountered in divide\n",
      "  recall = tp / (tp + fn)\n",
      "mAP:   0%|          | 0/11 [00:00<?, ?it/s]/Users/arianprabowo/My Drive/employment/2023 09 UNSW postdoc/DIEF/e09_XGBoost/../diefComp1Utils.py:263: RuntimeWarning: invalid value encountered in divide\n",
      "  a_precision[ii,:] = true__positive / (true__positive + false_positive)\n",
      "/Users/arianprabowo/My Drive/employment/2023 09 UNSW postdoc/DIEF/e09_XGBoost/../diefComp1Utils.py:264: RuntimeWarning: invalid value encountered in divide\n",
      "  a_recall[ii,:] = true__positive / (true__positive + false_negative)\n",
      "mAP: 100%|██████████| 11/11 [00:11<00:00,  1.03s/it]\n"
     ]
    },
    {
     "name": "stdout",
     "output_type": "stream",
     "text": [
      "  Accuracy  | Precision  |   Recall   |     F1     |    mAP     \n",
      "   0.9884975    0.0022302    0.0041667    0.0029053    0.0022302\n"
     ]
    },
    {
     "name": "stderr",
     "output_type": "stream",
     "text": [
      "/Users/arianprabowo/My Drive/employment/2023 09 UNSW postdoc/DIEF/e09_XGBoost/../diefComp1Utils.py:309: RuntimeWarning: invalid value encountered in divide\n",
      "  f1 = 2 * (precision * recall) / (precision + recall)\n",
      "mAP: 100%|██████████| 11/11 [00:11<00:00,  1.02s/it]\n"
     ]
    },
    {
     "name": "stdout",
     "output_type": "stream",
     "text": [
      "  Accuracy  | Precision  |   Recall   |     F1     |    mAP     \n",
      "   0.9882734    0.0021771    0.0041667    0.0028599    0.0021771\n"
     ]
    },
    {
     "name": "stderr",
     "output_type": "stream",
     "text": [
      "mAP: 100%|██████████| 11/11 [00:22<00:00,  2.05s/it]"
     ]
    },
    {
     "name": "stdout",
     "output_type": "stream",
     "text": [
      "  Accuracy  | Precision  |   Recall   |     F1     |    mAP     \n",
      "   0.9883862    0.0022038    0.0041667    0.0028828    0.0022038\n"
     ]
    },
    {
     "name": "stderr",
     "output_type": "stream",
     "text": [
      "\n"
     ]
    }
   ],
   "source": [
    "d = util.parition_wrapper_for_metrics(dfTestY, aTsth, 'leaderboard')\n",
    "d = util.parition_wrapper_for_metrics(dfTestY, aTsth, 'secret')\n",
    "d = util.parition_wrapper_for_metrics(dfTestY, aTsth, 'combined')"
   ]
  },
  {
   "cell_type": "code",
   "execution_count": 18,
   "metadata": {},
   "outputs": [
    {
     "name": "stdout",
     "output_type": "stream",
     "text": [
      "accuracy     0.859183\n",
      "precision    0.099036\n",
      "recall       0.187248\n",
      "f1           0.129551\n",
      "AP           0.099036\n",
      "dtype: float64\n"
     ]
    }
   ],
   "source": [
    "dfM, dfWM = util.weighted_metrics(d, dfTestY)\n",
    "print(dfWM)"
   ]
  },
  {
   "cell_type": "markdown",
   "metadata": {},
   "source": [
    "# bot"
   ]
  },
  {
   "cell_type": "code",
   "execution_count": null,
   "metadata": {},
   "outputs": [],
   "source": []
  }
 ],
 "metadata": {
  "kernelspec": {
   "display_name": "AENeff",
   "language": "python",
   "name": "python3"
  },
  "language_info": {
   "codemirror_mode": {
    "name": "ipython",
    "version": 3
   },
   "file_extension": ".py",
   "mimetype": "text/x-python",
   "name": "python",
   "nbconvert_exporter": "python",
   "pygments_lexer": "ipython3",
   "version": "3.8.16"
  }
 },
 "nbformat": 4,
 "nbformat_minor": 2
}
