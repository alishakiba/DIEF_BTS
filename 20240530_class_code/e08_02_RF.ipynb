{
 "cells": [
  {
   "cell_type": "markdown",
   "metadata": {},
   "source": [
    "# top"
   ]
  },
  {
   "cell_type": "markdown",
   "metadata": {},
   "source": [
    "# top"
   ]
  },
  {
   "cell_type": "code",
   "execution_count": 1,
   "metadata": {},
   "outputs": [
    {
     "name": "stderr",
     "output_type": "stream",
     "text": [
      "/Users/arianprabowo/anaconda3/envs/dief3/lib/python3.8/site-packages/tqdm/auto.py:21: TqdmWarning: IProgress not found. Please update jupyter and ipywidgets. See https://ipywidgets.readthedocs.io/en/stable/user_install.html\n",
      "  from .autonotebook import tqdm as notebook_tqdm\n"
     ]
    }
   ],
   "source": [
    "import os, sys\n",
    "import pickle\n",
    "import numpy as np\n",
    "import pandas as pd\n",
    "import scipy.stats\n",
    "import matplotlib.pyplot as plt\n",
    "\n",
    "from tqdm.auto import tqdm\n",
    "import sklearn.metrics\n",
    "import sklearn.ensemble\n",
    "\n",
    "sys.path.append('..')\n",
    "import diefComp1Utils as util\n"
   ]
  },
  {
   "cell_type": "code",
   "execution_count": 2,
   "metadata": {},
   "outputs": [],
   "source": [
    "folderPath = '/Users/arianprabowo/Library/CloudStorage/OneDrive-UNSW/root/DIEF/raw data/e04_splits/'\n",
    "pathTrainX = folderPath+'train_X.zip'\n",
    "pathTrainY = folderPath+'train_Y.csv'\n",
    "pathTestX = folderPath+'test_X.zip'\n",
    "pathTestY = folderPath+'test_Y.csv'"
   ]
  },
  {
   "cell_type": "markdown",
   "metadata": {},
   "source": [
    "# load"
   ]
  },
  {
   "cell_type": "code",
   "execution_count": 3,
   "metadata": {},
   "outputs": [],
   "source": [
    "dfTrainY = pd.read_csv(pathTrainY, index_col=0)\n",
    "aTrny = dfTrainY.iloc[:,3:].values ==1"
   ]
  },
  {
   "cell_type": "code",
   "execution_count": 4,
   "metadata": {},
   "outputs": [
    {
     "name": "stderr",
     "output_type": "stream",
     "text": [
      "  0%|          | 0/31851 [00:00<?, ?it/s]/Users/arianprabowo/My Drive/employment/2023 09 UNSW postdoc/DIEF/e08_RF/../diefComp1Utils.py:164: RuntimeWarning: Precision loss occurred in moment calculation due to catastrophic cancellation. This occurs when the data are nearly identical. Results may be unreliable.\n",
      "  adata[ii,2] = scipy.stats.skew(idata['v'])\n",
      "/Users/arianprabowo/My Drive/employment/2023 09 UNSW postdoc/DIEF/e08_RF/../diefComp1Utils.py:165: RuntimeWarning: Precision loss occurred in moment calculation due to catastrophic cancellation. This occurs when the data are nearly identical. Results may be unreliable.\n",
      "  adata[ii,3] = scipy.stats.kurtosis(idata['v'])\n",
      "100%|██████████| 31851/31851 [00:30<00:00, 1035.68it/s]\n"
     ]
    }
   ],
   "source": [
    "aTrnx = util.load_GlobalFeatureSet1(pathTrainX)"
   ]
  },
  {
   "cell_type": "code",
   "execution_count": 5,
   "metadata": {},
   "outputs": [],
   "source": [
    "dfTestY = pd.read_csv(pathTestY, index_col=0)\n",
    "aTsty = dfTestY.iloc[:,3:].values ==1"
   ]
  },
  {
   "cell_type": "code",
   "execution_count": 6,
   "metadata": {},
   "outputs": [
    {
     "name": "stderr",
     "output_type": "stream",
     "text": [
      "  0%|          | 0/329439 [00:00<?, ?it/s]/Users/arianprabowo/My Drive/employment/2023 09 UNSW postdoc/DIEF/e08_RF/../diefComp1Utils.py:164: RuntimeWarning: Precision loss occurred in moment calculation due to catastrophic cancellation. This occurs when the data are nearly identical. Results may be unreliable.\n",
      "  adata[ii,2] = scipy.stats.skew(idata['v'])\n",
      "/Users/arianprabowo/My Drive/employment/2023 09 UNSW postdoc/DIEF/e08_RF/../diefComp1Utils.py:165: RuntimeWarning: Precision loss occurred in moment calculation due to catastrophic cancellation. This occurs when the data are nearly identical. Results may be unreliable.\n",
      "  adata[ii,3] = scipy.stats.kurtosis(idata['v'])\n",
      "100%|██████████| 329439/329439 [04:52<00:00, 1125.65it/s]\n"
     ]
    }
   ],
   "source": [
    "aTstx = util.load_GlobalFeatureSet1(pathTestX)"
   ]
  },
  {
   "cell_type": "markdown",
   "metadata": {},
   "source": [
    "# 10x replications"
   ]
  },
  {
   "cell_type": "code",
   "execution_count": 7,
   "metadata": {},
   "outputs": [],
   "source": [
    "def run_rf(rs):\n",
    "    m = sklearn.ensemble.RandomForestClassifier(random_state=rs)\n",
    "    m.fit(aTrnx, aTrny) # 3 mins\n",
    "    aTrnh = m.predict(aTrnx)\n",
    "    aTsth = m.predict(aTstx) # 10 mins\n",
    "    return aTrnh.astype(float), aTsth.astype(float)"
   ]
  },
  {
   "cell_type": "code",
   "execution_count": 8,
   "metadata": {},
   "outputs": [
    {
     "name": "stderr",
     "output_type": "stream",
     "text": [
      "  0%|          | 0/10 [00:00<?, ?it/s]/Users/arianprabowo/My Drive/employment/2023 09 UNSW postdoc/DIEF/e08_RF/../diefComp1Utils.py:306: RuntimeWarning: invalid value encountered in divide\n",
      "  accuracy = (tp + tn) / (tp + tn + fp + fn)\n",
      "/Users/arianprabowo/My Drive/employment/2023 09 UNSW postdoc/DIEF/e08_RF/../diefComp1Utils.py:307: RuntimeWarning: invalid value encountered in divide\n",
      "  precision = tp / (tp + fp)\n",
      "/Users/arianprabowo/My Drive/employment/2023 09 UNSW postdoc/DIEF/e08_RF/../diefComp1Utils.py:308: RuntimeWarning: invalid value encountered in divide\n",
      "  recall = tp / (tp + fn)\n",
      "/Users/arianprabowo/My Drive/employment/2023 09 UNSW postdoc/DIEF/e08_RF/../diefComp1Utils.py:263: RuntimeWarning: invalid value encountered in divide\n",
      "  a_precision[ii,:] = true__positive / (true__positive + false_positive)\n",
      "/Users/arianprabowo/My Drive/employment/2023 09 UNSW postdoc/DIEF/e08_RF/../diefComp1Utils.py:264: RuntimeWarning: invalid value encountered in divide\n",
      "  a_recall[ii,:] = true__positive / (true__positive + false_negative)\n",
      " 10%|█         | 1/10 [11:55<1:47:19, 715.55s/it]/Users/arianprabowo/My Drive/employment/2023 09 UNSW postdoc/DIEF/e08_RF/../diefComp1Utils.py:306: RuntimeWarning: invalid value encountered in divide\n",
      "  accuracy = (tp + tn) / (tp + tn + fp + fn)\n",
      "/Users/arianprabowo/My Drive/employment/2023 09 UNSW postdoc/DIEF/e08_RF/../diefComp1Utils.py:307: RuntimeWarning: invalid value encountered in divide\n",
      "  precision = tp / (tp + fp)\n",
      "/Users/arianprabowo/My Drive/employment/2023 09 UNSW postdoc/DIEF/e08_RF/../diefComp1Utils.py:308: RuntimeWarning: invalid value encountered in divide\n",
      "  recall = tp / (tp + fn)\n",
      "/Users/arianprabowo/My Drive/employment/2023 09 UNSW postdoc/DIEF/e08_RF/../diefComp1Utils.py:263: RuntimeWarning: invalid value encountered in divide\n",
      "  a_precision[ii,:] = true__positive / (true__positive + false_positive)\n",
      "/Users/arianprabowo/My Drive/employment/2023 09 UNSW postdoc/DIEF/e08_RF/../diefComp1Utils.py:264: RuntimeWarning: invalid value encountered in divide\n",
      "  a_recall[ii,:] = true__positive / (true__positive + false_negative)\n",
      " 20%|██        | 2/10 [24:24<1:38:03, 735.46s/it]/Users/arianprabowo/My Drive/employment/2023 09 UNSW postdoc/DIEF/e08_RF/../diefComp1Utils.py:306: RuntimeWarning: invalid value encountered in divide\n",
      "  accuracy = (tp + tn) / (tp + tn + fp + fn)\n",
      "/Users/arianprabowo/My Drive/employment/2023 09 UNSW postdoc/DIEF/e08_RF/../diefComp1Utils.py:307: RuntimeWarning: invalid value encountered in divide\n",
      "  precision = tp / (tp + fp)\n",
      "/Users/arianprabowo/My Drive/employment/2023 09 UNSW postdoc/DIEF/e08_RF/../diefComp1Utils.py:308: RuntimeWarning: invalid value encountered in divide\n",
      "  recall = tp / (tp + fn)\n",
      "/Users/arianprabowo/My Drive/employment/2023 09 UNSW postdoc/DIEF/e08_RF/../diefComp1Utils.py:263: RuntimeWarning: invalid value encountered in divide\n",
      "  a_precision[ii,:] = true__positive / (true__positive + false_positive)\n",
      "/Users/arianprabowo/My Drive/employment/2023 09 UNSW postdoc/DIEF/e08_RF/../diefComp1Utils.py:264: RuntimeWarning: invalid value encountered in divide\n",
      "  a_recall[ii,:] = true__positive / (true__positive + false_negative)\n",
      " 30%|███       | 3/10 [36:37<1:25:39, 734.25s/it]/Users/arianprabowo/My Drive/employment/2023 09 UNSW postdoc/DIEF/e08_RF/../diefComp1Utils.py:306: RuntimeWarning: invalid value encountered in divide\n",
      "  accuracy = (tp + tn) / (tp + tn + fp + fn)\n",
      "/Users/arianprabowo/My Drive/employment/2023 09 UNSW postdoc/DIEF/e08_RF/../diefComp1Utils.py:307: RuntimeWarning: invalid value encountered in divide\n",
      "  precision = tp / (tp + fp)\n",
      "/Users/arianprabowo/My Drive/employment/2023 09 UNSW postdoc/DIEF/e08_RF/../diefComp1Utils.py:308: RuntimeWarning: invalid value encountered in divide\n",
      "  recall = tp / (tp + fn)\n",
      "/Users/arianprabowo/My Drive/employment/2023 09 UNSW postdoc/DIEF/e08_RF/../diefComp1Utils.py:263: RuntimeWarning: invalid value encountered in divide\n",
      "  a_precision[ii,:] = true__positive / (true__positive + false_positive)\n",
      "/Users/arianprabowo/My Drive/employment/2023 09 UNSW postdoc/DIEF/e08_RF/../diefComp1Utils.py:264: RuntimeWarning: invalid value encountered in divide\n",
      "  a_recall[ii,:] = true__positive / (true__positive + false_negative)\n",
      " 40%|████      | 4/10 [48:44<1:13:08, 731.34s/it]/Users/arianprabowo/My Drive/employment/2023 09 UNSW postdoc/DIEF/e08_RF/../diefComp1Utils.py:306: RuntimeWarning: invalid value encountered in divide\n",
      "  accuracy = (tp + tn) / (tp + tn + fp + fn)\n",
      "/Users/arianprabowo/My Drive/employment/2023 09 UNSW postdoc/DIEF/e08_RF/../diefComp1Utils.py:307: RuntimeWarning: invalid value encountered in divide\n",
      "  precision = tp / (tp + fp)\n",
      "/Users/arianprabowo/My Drive/employment/2023 09 UNSW postdoc/DIEF/e08_RF/../diefComp1Utils.py:308: RuntimeWarning: invalid value encountered in divide\n",
      "  recall = tp / (tp + fn)\n",
      "/Users/arianprabowo/My Drive/employment/2023 09 UNSW postdoc/DIEF/e08_RF/../diefComp1Utils.py:263: RuntimeWarning: invalid value encountered in divide\n",
      "  a_precision[ii,:] = true__positive / (true__positive + false_positive)\n",
      "/Users/arianprabowo/My Drive/employment/2023 09 UNSW postdoc/DIEF/e08_RF/../diefComp1Utils.py:264: RuntimeWarning: invalid value encountered in divide\n",
      "  a_recall[ii,:] = true__positive / (true__positive + false_negative)\n",
      " 50%|█████     | 5/10 [1:00:40<1:00:29, 725.93s/it]/Users/arianprabowo/My Drive/employment/2023 09 UNSW postdoc/DIEF/e08_RF/../diefComp1Utils.py:306: RuntimeWarning: invalid value encountered in divide\n",
      "  accuracy = (tp + tn) / (tp + tn + fp + fn)\n",
      "/Users/arianprabowo/My Drive/employment/2023 09 UNSW postdoc/DIEF/e08_RF/../diefComp1Utils.py:307: RuntimeWarning: invalid value encountered in divide\n",
      "  precision = tp / (tp + fp)\n",
      "/Users/arianprabowo/My Drive/employment/2023 09 UNSW postdoc/DIEF/e08_RF/../diefComp1Utils.py:308: RuntimeWarning: invalid value encountered in divide\n",
      "  recall = tp / (tp + fn)\n",
      "/Users/arianprabowo/My Drive/employment/2023 09 UNSW postdoc/DIEF/e08_RF/../diefComp1Utils.py:263: RuntimeWarning: invalid value encountered in divide\n",
      "  a_precision[ii,:] = true__positive / (true__positive + false_positive)\n",
      "/Users/arianprabowo/My Drive/employment/2023 09 UNSW postdoc/DIEF/e08_RF/../diefComp1Utils.py:264: RuntimeWarning: invalid value encountered in divide\n",
      "  a_recall[ii,:] = true__positive / (true__positive + false_negative)\n",
      " 60%|██████    | 6/10 [1:12:57<48:38, 729.59s/it]  /Users/arianprabowo/My Drive/employment/2023 09 UNSW postdoc/DIEF/e08_RF/../diefComp1Utils.py:306: RuntimeWarning: invalid value encountered in divide\n",
      "  accuracy = (tp + tn) / (tp + tn + fp + fn)\n",
      "/Users/arianprabowo/My Drive/employment/2023 09 UNSW postdoc/DIEF/e08_RF/../diefComp1Utils.py:307: RuntimeWarning: invalid value encountered in divide\n",
      "  precision = tp / (tp + fp)\n",
      "/Users/arianprabowo/My Drive/employment/2023 09 UNSW postdoc/DIEF/e08_RF/../diefComp1Utils.py:308: RuntimeWarning: invalid value encountered in divide\n",
      "  recall = tp / (tp + fn)\n",
      "/Users/arianprabowo/My Drive/employment/2023 09 UNSW postdoc/DIEF/e08_RF/../diefComp1Utils.py:263: RuntimeWarning: invalid value encountered in divide\n",
      "  a_precision[ii,:] = true__positive / (true__positive + false_positive)\n",
      "/Users/arianprabowo/My Drive/employment/2023 09 UNSW postdoc/DIEF/e08_RF/../diefComp1Utils.py:264: RuntimeWarning: invalid value encountered in divide\n",
      "  a_recall[ii,:] = true__positive / (true__positive + false_negative)\n",
      " 70%|███████   | 7/10 [1:25:01<36:23, 727.77s/it]/Users/arianprabowo/My Drive/employment/2023 09 UNSW postdoc/DIEF/e08_RF/../diefComp1Utils.py:306: RuntimeWarning: invalid value encountered in divide\n",
      "  accuracy = (tp + tn) / (tp + tn + fp + fn)\n",
      "/Users/arianprabowo/My Drive/employment/2023 09 UNSW postdoc/DIEF/e08_RF/../diefComp1Utils.py:307: RuntimeWarning: invalid value encountered in divide\n",
      "  precision = tp / (tp + fp)\n",
      "/Users/arianprabowo/My Drive/employment/2023 09 UNSW postdoc/DIEF/e08_RF/../diefComp1Utils.py:308: RuntimeWarning: invalid value encountered in divide\n",
      "  recall = tp / (tp + fn)\n",
      "/Users/arianprabowo/My Drive/employment/2023 09 UNSW postdoc/DIEF/e08_RF/../diefComp1Utils.py:263: RuntimeWarning: invalid value encountered in divide\n",
      "  a_precision[ii,:] = true__positive / (true__positive + false_positive)\n",
      "/Users/arianprabowo/My Drive/employment/2023 09 UNSW postdoc/DIEF/e08_RF/../diefComp1Utils.py:264: RuntimeWarning: invalid value encountered in divide\n",
      "  a_recall[ii,:] = true__positive / (true__positive + false_negative)\n",
      " 80%|████████  | 8/10 [1:36:49<24:02, 721.27s/it]/Users/arianprabowo/My Drive/employment/2023 09 UNSW postdoc/DIEF/e08_RF/../diefComp1Utils.py:306: RuntimeWarning: invalid value encountered in divide\n",
      "  accuracy = (tp + tn) / (tp + tn + fp + fn)\n",
      "/Users/arianprabowo/My Drive/employment/2023 09 UNSW postdoc/DIEF/e08_RF/../diefComp1Utils.py:307: RuntimeWarning: invalid value encountered in divide\n",
      "  precision = tp / (tp + fp)\n",
      "/Users/arianprabowo/My Drive/employment/2023 09 UNSW postdoc/DIEF/e08_RF/../diefComp1Utils.py:308: RuntimeWarning: invalid value encountered in divide\n",
      "  recall = tp / (tp + fn)\n",
      "/Users/arianprabowo/My Drive/employment/2023 09 UNSW postdoc/DIEF/e08_RF/../diefComp1Utils.py:263: RuntimeWarning: invalid value encountered in divide\n",
      "  a_precision[ii,:] = true__positive / (true__positive + false_positive)\n",
      "/Users/arianprabowo/My Drive/employment/2023 09 UNSW postdoc/DIEF/e08_RF/../diefComp1Utils.py:264: RuntimeWarning: invalid value encountered in divide\n",
      "  a_recall[ii,:] = true__positive / (true__positive + false_negative)\n",
      " 90%|█████████ | 9/10 [1:48:52<12:01, 721.86s/it]/Users/arianprabowo/My Drive/employment/2023 09 UNSW postdoc/DIEF/e08_RF/../diefComp1Utils.py:306: RuntimeWarning: invalid value encountered in divide\n",
      "  accuracy = (tp + tn) / (tp + tn + fp + fn)\n",
      "/Users/arianprabowo/My Drive/employment/2023 09 UNSW postdoc/DIEF/e08_RF/../diefComp1Utils.py:307: RuntimeWarning: invalid value encountered in divide\n",
      "  precision = tp / (tp + fp)\n",
      "/Users/arianprabowo/My Drive/employment/2023 09 UNSW postdoc/DIEF/e08_RF/../diefComp1Utils.py:308: RuntimeWarning: invalid value encountered in divide\n",
      "  recall = tp / (tp + fn)\n",
      "/Users/arianprabowo/My Drive/employment/2023 09 UNSW postdoc/DIEF/e08_RF/../diefComp1Utils.py:263: RuntimeWarning: invalid value encountered in divide\n",
      "  a_precision[ii,:] = true__positive / (true__positive + false_positive)\n",
      "/Users/arianprabowo/My Drive/employment/2023 09 UNSW postdoc/DIEF/e08_RF/../diefComp1Utils.py:264: RuntimeWarning: invalid value encountered in divide\n",
      "  a_recall[ii,:] = true__positive / (true__positive + false_negative)\n",
      "100%|██████████| 10/10 [2:00:57<00:00, 725.75s/it]"
     ]
    },
    {
     "name": "stdout",
     "output_type": "stream",
     "text": [
      "train accuracy mean, 0.8505277093548251\n",
      "train accuracy std , 0.00432778586669817\n",
      "train precision mean, 0.0856330238666839\n",
      "train precision std , 0.07439935133357219\n",
      "train recall mean, 0.03745725591002195\n",
      "train recall std , 0.07489463165711946\n",
      "train f1 mean, 0.02592612301741127\n",
      "train f1 std , 0.05181249515619223\n",
      "train AP mean, 0.05272337294071362\n",
      "train AP std , 0.0436926023162738\n",
      "combined accuracy mean, 2.2906148337e-314\n",
      "combined accuracy std , 0.0\n",
      "combined precision mean, 2.204010727e-314\n",
      "combined precision std , 0.0\n",
      "combined recall mean, 2.373714695e-314\n",
      "combined recall std , 0.0\n",
      "combined f1 mean, 2.296042447e-314\n",
      "combined f1 std , 0.0\n",
      "combined AP mean, 2.148449853e-314\n",
      "combined AP std , 0.0\n"
     ]
    },
    {
     "name": "stderr",
     "output_type": "stream",
     "text": [
      "\n"
     ]
    }
   ],
   "source": [
    "n = 10\n",
    "z = np.empty((4,n,10))\n",
    "for i in tqdm(range(n)):\n",
    "    trn_H, tst_H = run_rf(i)\n",
    "    d = util.allMetrics(aTrny, trn_H, verbose=False)\n",
    "    z[0,i,0] = d['accuracy'].mean()\n",
    "    z[0,i,1] = d['precision'].mean()\n",
    "    z[0,i,2] = d['recall'].mean()\n",
    "    z[0,i,3] = d['f1'].mean()\n",
    "    z[0,i,4] = d['AP'].mean()\n",
    "    dfM, dfWM = util.weighted_metrics(d, dfTrainY)\n",
    "    z[0,i,5:] = dfWM.iloc[:]\n",
    "    # d = util.parition_wrapper_for_metrics(dfTestY, tst_H, 'leaderboard', verbose=False)\n",
    "    # z[1,i,0] = d['accuracy'].mean()\n",
    "    # z[1,i,1] = d['precision'].mean()\n",
    "    # z[1,i,2] = d['recall'].mean()\n",
    "    # z[1,i,3] = d['f1'].mean()\n",
    "    # z[1,i,4] = d['AP'].mean()\n",
    "    # d = util.parition_wrapper_for_metrics(dfTestY, tst_H, 'secret', verbose=False)\n",
    "    # z[2,i,0] = d['accuracy'].mean()\n",
    "    # z[2,i,1] = d['precision'].mean()\n",
    "    # z[2,i,2] = d['recall'].mean()\n",
    "    # z[2,i,3] = d['f1'].mean()\n",
    "    # z[2,i,4] = d['AP'].mean()\n",
    "    d = util.parition_wrapper_for_metrics(dfTestY, tst_H, 'combined', verbose=False)\n",
    "    z[3,i,0] = d['accuracy'].mean()\n",
    "    z[3,i,1] = d['precision'].mean()\n",
    "    z[3,i,2] = d['recall'].mean()\n",
    "    z[3,i,3] = d['f1'].mean()\n",
    "    z[3,i,4] = d['AP'].mean()\n",
    "    dfM, dfWM = util.weighted_metrics(d, dfTestY)\n",
    "    z[0,i,5:] = dfWM.iloc[:]\n",
    "u = z.mean(axis=1)\n",
    "s = z.std(axis=1)\n",
    "for i, ii in enumerate(['train', 'leader', 'secret', 'combined']):\n",
    "    if i==1 or i==2:\n",
    "        continue\n",
    "    for j, jj in enumerate(['accuracy', 'precision', 'recall', 'f1', 'AP']):\n",
    "        print(ii, jj, 'mean,', u[i,5+j])\n",
    "        print(ii, jj, 'std ,', s[i,5+j])"
   ]
  },
  {
   "cell_type": "markdown",
   "metadata": {},
   "source": [
    "[11:55<1:47:19, 715.55s/it]\n",
    "\n",
    "100%|██████████| 10/10 [2:00:57<00:00, 725.75s/it]"
   ]
  },
  {
   "cell_type": "markdown",
   "metadata": {},
   "source": [
    "train accuracy mean, 0.8505277093548251\n",
    "train accuracy std , 0.00432778586669817\n",
    "train precision mean, 0.0856330238666839\n",
    "train precision std , 0.07439935133357219\n",
    "train recall mean, 0.03745725591002195\n",
    "train recall std , 0.07489463165711946\n",
    "train f1 mean, 0.02592612301741127\n",
    "train f1 std , 0.05181249515619223\n",
    "train AP mean, 0.05272337294071362\n",
    "train AP std , 0.0436926023162738\n",
    "combined accuracy mean, 2.2906148337e-314\n",
    "combined accuracy std , 0.0\n",
    "combined precision mean, 2.204010727e-314\n",
    "combined precision std , 0.0\n",
    "combined recall mean, 2.373714695e-314\n",
    "combined recall std , 0.0\n",
    "combined f1 mean, 2.296042447e-314\n",
    "combined f1 std , 0.0\n",
    "combined AP mean, 2.148449853e-314\n",
    "combined AP std , 0.0"
   ]
  },
  {
   "cell_type": "code",
   "execution_count": 10,
   "metadata": {},
   "outputs": [
    {
     "name": "stdout",
     "output_type": "stream",
     "text": [
      "train accuracy mean, 0.42227164997911715\n",
      "train accuracy std , 0.0010257239419125606\n",
      "train precision mean, 0.7583333333333332\n",
      "train precision std , 1.1102230246251565e-16\n",
      "train recall mean, 0.42227164997911715\n",
      "train recall std , 0.0010257239419125606\n",
      "train f1 mean, 0.5389406612783574\n",
      "train f1 std , 0.00094819853445206\n",
      "train AP mean, 0.5903024916562252\n",
      "train AP std , 0.0005128619709562609\n",
      "train Waccuracy mean, 0.8505277093548251\n",
      "train Waccuracy std , 0.00432778586669817\n",
      "train Wprecision mean, 0.0856330238666839\n",
      "train Wprecision std , 0.07439935133357219\n",
      "train Wrecall mean, 0.03745725591002195\n",
      "train Wrecall std , 0.07489463165711946\n",
      "train Wf1 mean, 0.02592612301741127\n",
      "train Wf1 std , 0.05181249515619223\n",
      "train wAP mean, 0.05272337294071362\n",
      "train wAP std , 0.0436926023162738\n",
      "combined accuracy mean, 0.9881935728457243\n",
      "combined accuracy std , 9.630265945887751e-05\n",
      "combined precision mean, 0.0019055212503289575\n",
      "combined precision std , 0.0016555475747011225\n",
      "combined recall mean, 0.000833505508653723\n",
      "combined recall std , 0.0016665686403925363\n",
      "combined f1 mean, 0.000576912692295342\n",
      "combined f1 std , 0.0011529408409820497\n",
      "combined AP mean, 0.001173209855160041\n",
      "combined AP std , 0.0009722555439061607\n",
      "combined Waccuracy mean, 2.2906148337e-314\n",
      "combined Waccuracy std , 0.0\n",
      "combined Wprecision mean, 2.204010727e-314\n",
      "combined Wprecision std , 0.0\n",
      "combined Wrecall mean, 2.373714695e-314\n",
      "combined Wrecall std , 0.0\n",
      "combined Wf1 mean, 2.296042447e-314\n",
      "combined Wf1 std , 0.0\n",
      "combined wAP mean, 2.148449853e-314\n",
      "combined wAP std , 0.0\n"
     ]
    }
   ],
   "source": [
    "u = z.mean(axis=1)\n",
    "s = z.std(axis=1)\n",
    "for i, ii in enumerate(['train', 'leader', 'secret', 'combined']):\n",
    "    if i==1 or i==2:\n",
    "        continue\n",
    "    for j, jj in enumerate(['accuracy', 'precision', 'recall', 'f1', 'AP', 'Waccuracy', 'Wprecision', 'Wrecall', 'Wf1', 'wAP']):\n",
    "        print(ii, jj, 'mean,', u[i,j])\n",
    "        print(ii, jj, 'std ,', s[i,j])"
   ]
  },
  {
   "cell_type": "markdown",
   "metadata": {},
   "source": [
    "# bot"
   ]
  },
  {
   "cell_type": "code",
   "execution_count": 9,
   "metadata": {},
   "outputs": [
    {
     "data": {
      "text/plain": [
       "array([0.42321285, 0.42223746, 0.42265259, 0.42227853, 0.42084592,\n",
       "       0.4220429 , 0.42312958, 0.42304229, 0.4200141 , 0.42326028])"
      ]
     },
     "execution_count": 9,
     "metadata": {},
     "output_type": "execute_result"
    }
   ],
   "source": [
    "z[0,:,0]"
   ]
  }
 ],
 "metadata": {
  "kernelspec": {
   "display_name": "AENeff",
   "language": "python",
   "name": "python3"
  },
  "language_info": {
   "codemirror_mode": {
    "name": "ipython",
    "version": 3
   },
   "file_extension": ".py",
   "mimetype": "text/x-python",
   "name": "python",
   "nbconvert_exporter": "python",
   "pygments_lexer": "ipython3",
   "version": "3.8.16"
  }
 },
 "nbformat": 4,
 "nbformat_minor": 2
}
