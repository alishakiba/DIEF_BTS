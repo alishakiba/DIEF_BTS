{
 "cells": [
  {
   "cell_type": "markdown",
   "metadata": {},
   "source": [
    "# top"
   ]
  },
  {
   "cell_type": "code",
   "execution_count": 1,
   "metadata": {},
   "outputs": [
    {
     "name": "stderr",
     "output_type": "stream",
     "text": [
      "/Users/arianprabowo/anaconda3/envs/dief3/lib/python3.8/site-packages/tqdm/auto.py:21: TqdmWarning: IProgress not found. Please update jupyter and ipywidgets. See https://ipywidgets.readthedocs.io/en/stable/user_install.html\n",
      "  from .autonotebook import tqdm as notebook_tqdm\n"
     ]
    }
   ],
   "source": [
    "import os, sys\n",
    "import sys\n",
    "import numpy as np\n",
    "import pandas as pd\n",
    "\n",
    "import matplotlib.pyplot as plt\n",
    "import sklearn.metrics\n",
    "\n",
    "sys.path.append('..')\n",
    "import diefComp1Utils as util\n",
    "from tqdm.auto import tqdm"
   ]
  },
  {
   "cell_type": "code",
   "execution_count": 2,
   "metadata": {},
   "outputs": [
    {
     "data": {
      "text/plain": [
       "'/Users/arianprabowo/My Drive/employment/2023 09 UNSW postdoc/DIEF/e05_naieve'"
      ]
     },
     "execution_count": 2,
     "metadata": {},
     "output_type": "execute_result"
    }
   ],
   "source": [
    "os.getcwd()"
   ]
  },
  {
   "cell_type": "markdown",
   "metadata": {},
   "source": [
    "# load"
   ]
  },
  {
   "cell_type": "code",
   "execution_count": 3,
   "metadata": {},
   "outputs": [],
   "source": [
    "folderPath = '/Users/arianprabowo/Library/CloudStorage/OneDrive-UNSW/root/DIEF/raw data/e04_splits/'\n",
    "pathOutTrainY = folderPath+'train_Y.csv'\n",
    "pathOutTest_Y = folderPath+'test_Y.csv'"
   ]
  },
  {
   "cell_type": "code",
   "execution_count": 4,
   "metadata": {},
   "outputs": [],
   "source": [
    "dftrn = pd.read_csv(pathOutTrainY, index_col=0)\n",
    "dftst = pd.read_csv(pathOutTest_Y, index_col=0)"
   ]
  },
  {
   "cell_type": "code",
   "execution_count": 5,
   "metadata": {},
   "outputs": [
    {
     "name": "stdout",
     "output_type": "stream",
     "text": [
      "dftrn (31851, 243)\n",
      "dftst (329439, 243)\n"
     ]
    }
   ],
   "source": [
    "print('dftrn', dftrn.shape)\n",
    "print('dftst', dftst.shape)"
   ]
  },
  {
   "cell_type": "markdown",
   "metadata": {},
   "source": [
    "# results"
   ]
  },
  {
   "cell_type": "markdown",
   "metadata": {},
   "source": [
    "## mode"
   ]
  },
  {
   "cell_type": "code",
   "execution_count": 6,
   "metadata": {},
   "outputs": [],
   "source": [
    "# check e05_naieve_dev.ipynb on why Sensors is the mode\n",
    "trn_H_mode = np.zeros((dftrn.shape[0],dftrn.shape[1]-3))\n",
    "trn_H_mode[:,189] = 1 # setting all of the 'Sensors' as 1\n",
    "tst_H_mode = np.zeros((dftst.shape[0],dftst.shape[1]-3))\n",
    "tst_H_mode[:,189] = 1 # setting all of the 'Sensors' as 1"
   ]
  },
  {
   "cell_type": "code",
   "execution_count": 7,
   "metadata": {},
   "outputs": [
    {
     "name": "stderr",
     "output_type": "stream",
     "text": [
      "/Users/arianprabowo/My Drive/employment/2023 09 UNSW postdoc/DIEF/e05_naieve/../diefComp1Utils.py:302: RuntimeWarning: invalid value encountered in divide\n",
      "  precision = tp / (tp + fp)\n",
      "/Users/arianprabowo/My Drive/employment/2023 09 UNSW postdoc/DIEF/e05_naieve/../diefComp1Utils.py:303: RuntimeWarning: invalid value encountered in divide\n",
      "  recall = tp / (tp + fn)\n",
      "  0%|          | 0/11 [00:00<?, ?it/s]/Users/arianprabowo/My Drive/employment/2023 09 UNSW postdoc/DIEF/e05_naieve/../diefComp1Utils.py:258: RuntimeWarning: invalid value encountered in divide\n",
      "  a_precision[ii,:] = true__positive / (true__positive + false_positive)\n",
      "/Users/arianprabowo/My Drive/employment/2023 09 UNSW postdoc/DIEF/e05_naieve/../diefComp1Utils.py:259: RuntimeWarning: invalid value encountered in divide\n",
      "  a_recall[ii,:] = true__positive / (true__positive + false_negative)\n",
      "100%|██████████| 11/11 [00:02<00:00,  4.76it/s]\n"
     ]
    },
    {
     "name": "stdout",
     "output_type": "stream",
     "text": [
      "  Accuracy  | Precision  |   Recall   |     F1     |    mAP     \n",
      "   0.9879927    0.0021153    0.0041667    0.0028061    0.0021153\n"
     ]
    },
    {
     "name": "stderr",
     "output_type": "stream",
     "text": [
      "100%|██████████| 11/11 [00:11<00:00,  1.04s/it]\n"
     ]
    },
    {
     "name": "stdout",
     "output_type": "stream",
     "text": [
      "  Accuracy  | Precision  |   Recall   |     F1     |    mAP     \n",
      "   0.9884975    0.0022302    0.0041667    0.0029053    0.0022302\n"
     ]
    },
    {
     "name": "stderr",
     "output_type": "stream",
     "text": [
      "100%|██████████| 11/11 [00:11<00:00,  1.02s/it]\n"
     ]
    },
    {
     "name": "stdout",
     "output_type": "stream",
     "text": [
      "  Accuracy  | Precision  |   Recall   |     F1     |    mAP     \n",
      "   0.9882734    0.0021771    0.0041667    0.0028599    0.0021771\n"
     ]
    },
    {
     "name": "stderr",
     "output_type": "stream",
     "text": [
      "100%|██████████| 11/11 [00:22<00:00,  2.05s/it]"
     ]
    },
    {
     "name": "stdout",
     "output_type": "stream",
     "text": [
      "  Accuracy  | Precision  |   Recall   |     F1     |    mAP     \n",
      "   0.9883862    0.0022038    0.0041667    0.0028828    0.0022038\n"
     ]
    },
    {
     "name": "stderr",
     "output_type": "stream",
     "text": [
      "\n"
     ]
    }
   ],
   "source": [
    "d = util.allMetrics(dftrn.values[:,3:], trn_H_mode)\n",
    "d = util.parition_wrapper_for_metrics(dftst, tst_H_mode, 'leaderboard')\n",
    "d = util.parition_wrapper_for_metrics(dftst, tst_H_mode, 'secret')\n",
    "d = util.parition_wrapper_for_metrics(dftst, tst_H_mode, 'combined')"
   ]
  },
  {
   "cell_type": "code",
   "execution_count": 18,
   "metadata": {},
   "outputs": [
    {
     "name": "stderr",
     "output_type": "stream",
     "text": [
      "/Users/arianprabowo/My Drive/employment/2023 09 UNSW postdoc/DIEF/e05_naieve/../diefComp1Utils.py:302: RuntimeWarning: invalid value encountered in divide\n",
      "  precision = tp / (tp + fp)\n",
      "/Users/arianprabowo/My Drive/employment/2023 09 UNSW postdoc/DIEF/e05_naieve/../diefComp1Utils.py:303: RuntimeWarning: invalid value encountered in divide\n",
      "  recall = tp / (tp + fn)\n",
      "  0%|          | 0/11 [00:00<?, ?it/s]/Users/arianprabowo/My Drive/employment/2023 09 UNSW postdoc/DIEF/e05_naieve/../diefComp1Utils.py:258: RuntimeWarning: invalid value encountered in divide\n",
      "  a_precision[ii,:] = true__positive / (true__positive + false_positive)\n",
      "/Users/arianprabowo/My Drive/employment/2023 09 UNSW postdoc/DIEF/e05_naieve/../diefComp1Utils.py:259: RuntimeWarning: invalid value encountered in divide\n",
      "  a_recall[ii,:] = true__positive / (true__positive + false_negative)\n",
      "100%|██████████| 11/11 [00:02<00:00,  4.73it/s]"
     ]
    },
    {
     "name": "stdout",
     "output_type": "stream",
     "text": [
      "  Accuracy  | Precision  |   Recall   |     F1     |    mAP     \n",
      "   0.9879927    0.0021153    0.0041667    0.0028061    0.0021153\n"
     ]
    },
    {
     "name": "stderr",
     "output_type": "stream",
     "text": [
      "\n"
     ]
    },
    {
     "data": {
      "text/plain": [
       "accuracy     0.860444\n",
       "precision    0.089541\n",
       "recall       0.176374\n",
       "f1           0.118780\n",
       "AP           0.089541\n",
       "dtype: float64"
      ]
     },
     "metadata": {},
     "output_type": "display_data"
    }
   ],
   "source": [
    "d = util.allMetrics(dftrn.values[:,3:], trn_H_mode)\n",
    "dfM, dfWM = util.weighted_metrics(d, dftrn)\n",
    "display(dfWM)"
   ]
  },
  {
   "cell_type": "code",
   "execution_count": 19,
   "metadata": {},
   "outputs": [
    {
     "name": "stdout",
     "output_type": "stream",
     "text": [
      "0.8604440863096665\n",
      "0.08954108717275021\n",
      "0.17637434554973822\n",
      "0.11878024895521822\n",
      "0.08954108717275021\n"
     ]
    }
   ],
   "source": [
    "for i in dfWM:\n",
    "    print(i)"
   ]
  },
  {
   "cell_type": "code",
   "execution_count": 20,
   "metadata": {},
   "outputs": [
    {
     "name": "stderr",
     "output_type": "stream",
     "text": [
      "100%|██████████| 11/11 [00:22<00:00,  2.05s/it]\n"
     ]
    },
    {
     "name": "stdout",
     "output_type": "stream",
     "text": [
      "  Accuracy  | Precision  |   Recall   |     F1     |    mAP     \n",
      "   0.9883862    0.0022038    0.0041667    0.0028828    0.0022038\n"
     ]
    },
    {
     "data": {
      "text/plain": [
       "accuracy     0.859183\n",
       "precision    0.099036\n",
       "recall       0.187248\n",
       "f1           0.129551\n",
       "AP           0.099036\n",
       "dtype: float64"
      ]
     },
     "metadata": {},
     "output_type": "display_data"
    }
   ],
   "source": [
    "d = util.parition_wrapper_for_metrics(dftst, tst_H_mode, 'combined')\n",
    "dfM, dfWM = util.weighted_metrics(d, dftst)\n",
    "display(dfWM)"
   ]
  },
  {
   "cell_type": "code",
   "execution_count": 21,
   "metadata": {},
   "outputs": [
    {
     "name": "stdout",
     "output_type": "stream",
     "text": [
      "0.8591832760420325\n",
      "0.09903565674303758\n",
      "0.1872475922530837\n",
      "0.1295513330756415\n",
      "0.09903565674303758\n"
     ]
    }
   ],
   "source": [
    "for i in dfWM:\n",
    "    print(i)"
   ]
  },
  {
   "cell_type": "markdown",
   "metadata": {},
   "source": [
    "## zero"
   ]
  },
  {
   "cell_type": "code",
   "execution_count": 22,
   "metadata": {},
   "outputs": [
    {
     "name": "stderr",
     "output_type": "stream",
     "text": [
      "100%|██████████| 11/11 [00:02<00:00,  4.75it/s]\n"
     ]
    },
    {
     "name": "stdout",
     "output_type": "stream",
     "text": [
      "  Accuracy  | Precision  |   Recall   |     F1     |    mAP     \n",
      "   0.9879288          0.0          0.0          0.0          0.0\n"
     ]
    },
    {
     "name": "stderr",
     "output_type": "stream",
     "text": [
      "100%|██████████| 11/11 [00:11<00:00,  1.03s/it]\n"
     ]
    },
    {
     "name": "stdout",
     "output_type": "stream",
     "text": [
      "  Accuracy  | Precision  |   Recall   |     F1     |    mAP     \n",
      "   0.9882038          0.0          0.0          0.0          0.0\n"
     ]
    },
    {
     "name": "stderr",
     "output_type": "stream",
     "text": [
      "100%|██████████| 11/11 [00:11<00:00,  1.02s/it]\n"
     ]
    },
    {
     "name": "stdout",
     "output_type": "stream",
     "text": [
      "  Accuracy  | Precision  |   Recall   |     F1     |    mAP     \n",
      "    0.988086          0.0          0.0          0.0          0.0\n"
     ]
    },
    {
     "name": "stderr",
     "output_type": "stream",
     "text": [
      "100%|██████████| 11/11 [00:22<00:00,  2.06s/it]"
     ]
    },
    {
     "name": "stdout",
     "output_type": "stream",
     "text": [
      "  Accuracy  | Precision  |   Recall   |     F1     |    mAP     \n",
      "   0.9881453          0.0          0.0          0.0          0.0\n"
     ]
    },
    {
     "name": "stderr",
     "output_type": "stream",
     "text": [
      "\n"
     ]
    }
   ],
   "source": [
    "trn_H_zero = np.zeros((dftrn.shape[0],dftrn.shape[1]-3))\n",
    "tst_H_zero = np.zeros((dftst.shape[0],dftst.shape[1]-3))\n",
    "\n",
    "d = util.allMetrics(dftrn.values[:,3:], trn_H_zero)\n",
    "d = util.parition_wrapper_for_metrics(dftst, tst_H_zero, 'leaderboard')\n",
    "d = util.parition_wrapper_for_metrics(dftst, tst_H_zero, 'secret')\n",
    "d = util.parition_wrapper_for_metrics(dftst, tst_H_zero, 'combined')"
   ]
  },
  {
   "cell_type": "code",
   "execution_count": 23,
   "metadata": {},
   "outputs": [
    {
     "name": "stderr",
     "output_type": "stream",
     "text": [
      "/Users/arianprabowo/My Drive/employment/2023 09 UNSW postdoc/DIEF/e05_naieve/../diefComp1Utils.py:302: RuntimeWarning: invalid value encountered in divide\n",
      "  precision = tp / (tp + fp)\n",
      "/Users/arianprabowo/My Drive/employment/2023 09 UNSW postdoc/DIEF/e05_naieve/../diefComp1Utils.py:303: RuntimeWarning: invalid value encountered in divide\n",
      "  recall = tp / (tp + fn)\n",
      "  0%|          | 0/11 [00:00<?, ?it/s]/Users/arianprabowo/My Drive/employment/2023 09 UNSW postdoc/DIEF/e05_naieve/../diefComp1Utils.py:258: RuntimeWarning: invalid value encountered in divide\n",
      "  a_precision[ii,:] = true__positive / (true__positive + false_positive)\n",
      "/Users/arianprabowo/My Drive/employment/2023 09 UNSW postdoc/DIEF/e05_naieve/../diefComp1Utils.py:259: RuntimeWarning: invalid value encountered in divide\n",
      "  a_recall[ii,:] = true__positive / (true__positive + false_negative)\n",
      "100%|██████████| 11/11 [00:02<00:00,  4.77it/s]"
     ]
    },
    {
     "name": "stdout",
     "output_type": "stream",
     "text": [
      "  Accuracy  | Precision  |   Recall   |     F1     |    mAP     \n",
      "   0.9879288          0.0          0.0          0.0          0.0\n",
      "0.8577362575139044\n",
      " \n",
      "0.0\n",
      " \n",
      "0.0\n",
      " \n",
      "0.0\n",
      " \n",
      "0.0\n",
      " \n"
     ]
    },
    {
     "name": "stderr",
     "output_type": "stream",
     "text": [
      "\n"
     ]
    }
   ],
   "source": [
    "d = util.allMetrics(dftrn.values[:,3:], trn_H_zero)\n",
    "dfM, dfWM = util.weighted_metrics(d, dftrn)\n",
    "for i in dfWM:\n",
    "    print(i)\n",
    "    print(' ')"
   ]
  },
  {
   "cell_type": "code",
   "execution_count": 24,
   "metadata": {},
   "outputs": [
    {
     "name": "stderr",
     "output_type": "stream",
     "text": [
      "100%|██████████| 11/11 [00:22<00:00,  2.05s/it]\n"
     ]
    },
    {
     "name": "stdout",
     "output_type": "stream",
     "text": [
      "  Accuracy  | Precision  |   Recall   |     F1     |    mAP     \n",
      "   0.9881453          0.0          0.0          0.0          0.0\n",
      "0.848359554809041\n",
      " \n",
      "0.0\n",
      " \n",
      "0.0\n",
      " \n",
      "0.0\n",
      " \n",
      "0.0\n",
      " \n"
     ]
    }
   ],
   "source": [
    "d = util.parition_wrapper_for_metrics(dftst, tst_H_zero, 'combined')\n",
    "dfM, dfWM = util.weighted_metrics(d, dftst)\n",
    "for i in dfWM:\n",
    "    print(i)\n",
    "    print(' ')"
   ]
  },
  {
   "cell_type": "markdown",
   "metadata": {},
   "source": [
    "# random uniform"
   ]
  },
  {
   "cell_type": "code",
   "execution_count": 36,
   "metadata": {},
   "outputs": [
    {
     "name": "stderr",
     "output_type": "stream",
     "text": [
      "  0%|          | 0/10 [00:00<?, ?it/s]/Users/arianprabowo/My Drive/employment/2023 09 UNSW postdoc/DIEF/e05_naieve/../diefComp1Utils.py:303: RuntimeWarning: invalid value encountered in divide\n",
      "  recall = tp / (tp + fn)\n",
      "/Users/arianprabowo/My Drive/employment/2023 09 UNSW postdoc/DIEF/e05_naieve/../diefComp1Utils.py:304: RuntimeWarning: invalid value encountered in divide\n",
      "  f1 = 2 * (precision * recall) / (precision + recall)\n",
      "/Users/arianprabowo/My Drive/employment/2023 09 UNSW postdoc/DIEF/e05_naieve/../diefComp1Utils.py:259: RuntimeWarning: invalid value encountered in divide\n",
      "  a_recall[ii,:] = true__positive / (true__positive + false_negative)\n",
      "/Users/arianprabowo/My Drive/employment/2023 09 UNSW postdoc/DIEF/e05_naieve/../diefComp1Utils.py:258: RuntimeWarning: invalid value encountered in divide\n",
      "  a_precision[ii,:] = true__positive / (true__positive + false_positive)\n",
      "100%|██████████| 10/10 [05:03<00:00, 30.37s/it]"
     ]
    },
    {
     "name": "stdout",
     "output_type": "stream",
     "text": [
      "train accuracy mean, 0.50001284278717\n",
      "train accuracy std , 0.0008226135901152287\n",
      "train precision mean, 0.14227364238441947\n",
      "train precision std , 0.0006144303276167099\n",
      "train recall mean, 0.4998102094240838\n",
      "train recall std , 0.0014477936125535103\n",
      "train f1 mean, 0.17569754389019382\n",
      "train f1 std , 0.0007460783029170581\n",
      "train AP mean, 0.14337842545944912\n",
      "train AP std , 0.00047792707329579354\n",
      "combined accuracy mean, 0.4999327043624301\n",
      "combined accuracy std , 0.00021488080165848263\n",
      "combined precision mean, 0.1516200719581754\n",
      "combined precision std , 0.00019665734920064964\n",
      "combined recall mean, 0.49990263696915127\n",
      "combined recall std , 0.0003764644617226651\n",
      "combined f1 mean, 0.1813059459717431\n",
      "combined f1 std , 0.00020930149981078836\n",
      "combined AP mean, 0.15196606952023914\n",
      "combined AP std , 7.955529102861602e-05\n"
     ]
    },
    {
     "name": "stderr",
     "output_type": "stream",
     "text": [
      "\n",
      "/Users/arianprabowo/anaconda3/envs/dief3/lib/python3.8/site-packages/numpy/core/_methods.py:239: RuntimeWarning: overflow encountered in multiply\n",
      "  x = um.multiply(x, x, out=x)\n"
     ]
    }
   ],
   "source": [
    "n = 10\n",
    "z = np.empty((4,n,10))\n",
    "for i in tqdm(range(n)):\n",
    "    trn_H_uniform = np.random.rand(dftrn.shape[0],dftrn.shape[1]-3)\n",
    "    tst_H_uniform = np.random.rand(dftst.shape[0],dftst.shape[1]-3)\n",
    "    d = util.allMetrics(dftrn.values[:,3:], trn_H_uniform, verbose=False)\n",
    "    z[0,i,0] = d['accuracy'].mean()\n",
    "    z[0,i,1] = d['precision'].mean()\n",
    "    z[0,i,2] = d['recall'].mean()\n",
    "    z[0,i,3] = d['f1'].mean()\n",
    "    z[0,i,4] = d['AP'].mean()\n",
    "    dfM, dfWM = util.weighted_metrics(d, dftrn)\n",
    "    z[0,i,5:] = dfWM.iloc[:]\n",
    "    # d = util.parition_wrapper_for_metrics(dftst, tst_H_uniform, 'leaderboard', verbose=False)\n",
    "    # z[1,i,0] = d['accuracy'].mean()\n",
    "    # z[1,i,1] = d['precision'].mean()\n",
    "    # z[1,i,2] = d['recall'].mean()\n",
    "    # z[1,i,3] = d['f1'].mean()\n",
    "    # z[1,i,4] = d['AP'].mean()\n",
    "    # d = util.parition_wrapper_for_metrics(dftst, tst_H_uniform, 'secret', verbose=False)\n",
    "    # z[2,i,0] = d['accuracy'].mean()\n",
    "    # z[2,i,1] = d['precision'].mean()\n",
    "    # z[2,i,2] = d['recall'].mean()\n",
    "    # z[2,i,3] = d['f1'].mean()\n",
    "    # z[2,i,4] = d['AP'].mean()\n",
    "    d = util.parition_wrapper_for_metrics(dftst, tst_H_uniform, 'combined', verbose=False)\n",
    "    z[3,i,0] = d['accuracy'].mean()\n",
    "    z[3,i,1] = d['precision'].mean()\n",
    "    z[3,i,2] = d['recall'].mean()\n",
    "    z[3,i,3] = d['f1'].mean()\n",
    "    z[3,i,4] = d['AP'].mean()\n",
    "    dfM, dfWM = util.weighted_metrics(d, dftst)\n",
    "    z[3,i,5:] = dfWM.iloc[:]\n",
    "u = z.mean(axis=1)\n",
    "s = z.std(axis=1)\n",
    "for i, ii in enumerate(['train', 'leader', 'secret', 'combined']):\n",
    "    if i==1 or i==2:\n",
    "        continue\n",
    "    for j, jj in enumerate(['accuracy', 'precision', 'recall', 'f1', 'AP']):\n",
    "        print(ii, jj, 'mean,', u[i,5+j])\n",
    "        print(ii, jj, 'std ,', s[i,5+j])"
   ]
  },
  {
   "cell_type": "markdown",
   "metadata": {},
   "source": [
    "# random proportional"
   ]
  },
  {
   "cell_type": "code",
   "execution_count": 38,
   "metadata": {},
   "outputs": [],
   "source": [
    "def random_proportional(dftrn, out_shape):\n",
    "    dftrn = dftrn.values[:,3:]\n",
    "    proportions = (dftrn==1).sum(0)/dftrn.shape[0]\n",
    "    l_tst_H_proportional = []\n",
    "    for i in range(out_shape[1]):\n",
    "        icolumn = np.random.rand(out_shape[0])\n",
    "        icolumn = icolumn/2\n",
    "        icolumn = icolumn + proportions[i]/2\n",
    "        l_tst_H_proportional.append(icolumn)\n",
    "    tst_H_proportional = np.stack(l_tst_H_proportional).T\n",
    "    return tst_H_proportional"
   ]
  },
  {
   "cell_type": "code",
   "execution_count": 39,
   "metadata": {},
   "outputs": [
    {
     "name": "stderr",
     "output_type": "stream",
     "text": [
      "  0%|          | 0/10 [00:00<?, ?it/s]/Users/arianprabowo/My Drive/employment/2023 09 UNSW postdoc/DIEF/e05_naieve/../diefComp1Utils.py:302: RuntimeWarning: invalid value encountered in divide\n",
      "  precision = tp / (tp + fp)\n",
      "100%|██████████| 10/10 [05:07<00:00, 30.74s/it]"
     ]
    },
    {
     "name": "stdout",
     "output_type": "stream",
     "text": [
      "train accuracy mean, 0.8184850792067065\n",
      "train accuracy std , 0.0002790725913344365\n",
      "train precision mean, 0.14213986647714444\n",
      "train precision std , 0.00041880268071181755\n",
      "train recall mean, 0.14188590750436303\n",
      "train recall std , 0.0007392270886822087\n",
      "train f1 mean, 0.1420051829612584\n",
      "train f1 std , 0.0005095214164374758\n",
      "train AP mean, 0.14328154313675945\n",
      "train AP std , 0.00018181820420186734\n",
      "combined accuracy mean, 0.8146546550067455\n",
      "combined accuracy std , 0.00011312800899097415\n",
      "combined precision mean, 0.15143594339289834\n",
      "combined precision std , 0.00015442075550497954\n",
      "combined recall mean, 0.1468611706346221\n",
      "combined recall std , 0.000247277427705703\n",
      "combined f1 mean, 0.1486647174147953\n",
      "combined f1 std , 0.00019189217577330166\n",
      "combined AP mean, 0.15201100002073917\n",
      "combined AP std , 0.0001025548419368322\n"
     ]
    },
    {
     "name": "stderr",
     "output_type": "stream",
     "text": [
      "\n"
     ]
    }
   ],
   "source": [
    "n = 10\n",
    "z = np.empty((4,n,10))\n",
    "for i in tqdm(range(n)):\n",
    "    trn_H_proportional = random_proportional(dftrn, (dftrn.shape[0],dftrn.shape[1]-3))\n",
    "    tst_H_proportional = random_proportional(dftrn, (dftst.shape[0],dftst.shape[1]-3))\n",
    "    d = util.allMetrics(dftrn.values[:,3:], trn_H_proportional, verbose=False)\n",
    "    z[0,i,0] = d['accuracy'].mean()\n",
    "    z[0,i,1] = d['precision'].mean()\n",
    "    z[0,i,2] = d['recall'].mean()\n",
    "    z[0,i,3] = d['f1'].mean()\n",
    "    z[0,i,4] = d['AP'].mean()\n",
    "    dfM, dfWM = util.weighted_metrics(d, dftrn)\n",
    "    z[0,i,5:] = dfWM.iloc[:]\n",
    "    # d = util.parition_wrapper_for_metrics(dftst, tst_H_proportional, 'leaderboard', verbose=False)\n",
    "    # z[1,i,0] = d['accuracy'].mean()\n",
    "    # z[1,i,1] = d['precision'].mean()\n",
    "    # z[1,i,2] = d['recall'].mean()\n",
    "    # z[1,i,3] = d['f1'].mean()\n",
    "    # z[1,i,4] = d['AP'].mean()\n",
    "    # d = util.parition_wrapper_for_metrics(dftst, tst_H_proportional, 'secret', verbose=False)\n",
    "    # z[2,i,0] = d['accuracy'].mean()\n",
    "    # z[2,i,1] = d['precision'].mean()\n",
    "    # z[2,i,2] = d['recall'].mean()\n",
    "    # z[2,i,3] = d['f1'].mean()\n",
    "    # z[2,i,4] = d['AP'].mean()\n",
    "    d = util.parition_wrapper_for_metrics(dftst, tst_H_proportional, 'combined', verbose=False)\n",
    "    z[3,i,0] = d['accuracy'].mean()\n",
    "    z[3,i,1] = d['precision'].mean()\n",
    "    z[3,i,2] = d['recall'].mean()\n",
    "    z[3,i,3] = d['f1'].mean()\n",
    "    z[3,i,4] = d['AP'].mean()\n",
    "    dfM, dfWM = util.weighted_metrics(d, dftst)\n",
    "    z[3,i,5:] = dfWM.iloc[:]\n",
    "u = z.mean(axis=1)\n",
    "s = z.std(axis=1)\n",
    "for i, ii in enumerate(['train', 'leader', 'secret', 'combined']):\n",
    "    if i==1 or i==2:\n",
    "        continue\n",
    "    for j, jj in enumerate(['accuracy', 'precision', 'recall', 'f1', 'AP']):\n",
    "        print(ii, jj, 'mean,', u[i,5+j])\n",
    "        print(ii, jj, 'std ,', s[i,5+j])"
   ]
  },
  {
   "cell_type": "markdown",
   "metadata": {},
   "source": [
    "# bot"
   ]
  }
 ],
 "metadata": {
  "kernelspec": {
   "display_name": "AENeff",
   "language": "python",
   "name": "python3"
  },
  "language_info": {
   "codemirror_mode": {
    "name": "ipython",
    "version": 3
   },
   "file_extension": ".py",
   "mimetype": "text/x-python",
   "name": "python",
   "nbconvert_exporter": "python",
   "pygments_lexer": "ipython3",
   "version": "3.8.16"
  }
 },
 "nbformat": 4,
 "nbformat_minor": 2
}
