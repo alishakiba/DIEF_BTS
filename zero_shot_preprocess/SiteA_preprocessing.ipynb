{
 "cells": [
  {
   "cell_type": "code",
   "execution_count": 1,
   "id": "initial_id",
   "metadata": {
    "collapsed": true,
    "ExecuteTime": {
     "end_time": "2024-06-13T08:15:04.002290Z",
     "start_time": "2024-06-13T08:15:03.996871Z"
    }
   },
   "outputs": [],
   "source": [
    "from Preprocess import *"
   ]
  },
  {
   "cell_type": "code",
   "execution_count": 2,
   "id": "ded9996f2f10aca3",
   "metadata": {
    "collapsed": false,
    "ExecuteTime": {
     "end_time": "2024-06-13T08:15:17.310154Z",
     "start_time": "2024-06-13T08:15:06.059501Z"
    }
   },
   "outputs": [
    {
     "name": "stderr",
     "output_type": "stream",
     "text": [
      "100%|██████████| 8349/8349 [00:11<00:00, 744.53it/s]\n"
     ]
    }
   ],
   "source": [
    "pickle_dir = '/Users/dawn/Downloads/Site_Aaa'\n",
    "dstr = load_pickles(pickle_dir, is_individual=True)"
   ]
  },
  {
   "cell_type": "code",
   "execution_count": 3,
   "id": "102ad560325d8a7a",
   "metadata": {
    "collapsed": false,
    "ExecuteTime": {
     "end_time": "2024-06-13T08:16:12.275877Z",
     "start_time": "2024-06-13T08:15:19.704860Z"
    }
   },
   "outputs": [],
   "source": [
    "start_date = np.datetime64('2022-07-01')\n",
    "end_date = np.datetime64('2022-08-01')\n",
    "freq = '10min'\n",
    "data = clip_by_date(dstr, start_date, end_date)"
   ]
  },
  {
   "cell_type": "code",
   "execution_count": 4,
   "id": "5126f1c1f97b5a49",
   "metadata": {
    "collapsed": false,
    "ExecuteTime": {
     "end_time": "2024-06-13T08:16:22.598606Z",
     "start_time": "2024-06-13T08:16:12.276757Z"
    }
   },
   "outputs": [],
   "source": [
    "df = preprocess(data, ratio_threshold=0.1, fill_method='interpolate', save_name='SiteA_July22toAug22')"
   ]
  }
 ],
 "metadata": {
  "kernelspec": {
   "display_name": "Python 3",
   "language": "python",
   "name": "python3"
  },
  "language_info": {
   "codemirror_mode": {
    "name": "ipython",
    "version": 2
   },
   "file_extension": ".py",
   "mimetype": "text/x-python",
   "name": "python",
   "nbconvert_exporter": "python",
   "pygments_lexer": "ipython2",
   "version": "2.7.6"
  }
 },
 "nbformat": 4,
 "nbformat_minor": 5
}
